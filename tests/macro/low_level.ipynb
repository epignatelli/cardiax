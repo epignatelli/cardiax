{
 "cells": [
  {
   "cell_type": "markdown",
   "metadata": {
    "colab_type": "text",
    "id": "view-in-github"
   },
   "source": [
    "<a href=\"https://colab.research.google.com/github/epignatelli/fenton_karma_jax/blob/master/low_level.ipynb\" target=\"_parent\"><img src=\"https://colab.research.google.com/assets/colab-badge.svg\" alt=\"Open In Colab\"/></a>"
   ]
  },
  {
   "cell_type": "code",
   "execution_count": 63,
   "metadata": {},
   "outputs": [],
   "source": [
    "from timeit import timeit\n",
    "import numpy as np\n",
    "import jax\n",
    "import jax.numpy as jnp\n",
    "import matplotlib.pyplot as plt"
   ]
  },
  {
   "cell_type": "markdown",
   "metadata": {},
   "source": [
    "### Profile `gradient`\n",
    "---"
   ]
  },
  {
   "cell_type": "code",
   "execution_count": 149,
   "metadata": {},
   "outputs": [],
   "source": [
    "def profile_matmul(sizes):\n",
    "    results_np = []\n",
    "    results_jax = []\n",
    "    for size in sizes:\n",
    "        print(\"Profiling with size %s\" % size)\n",
    "        x_np = np.random.randn(200, size)\n",
    "        y_np = np.random.randn(size, 200)\n",
    "\n",
    "        key = jax.random.PRNGKey(1)\n",
    "        x_jax = jax.random.normal(key, (100, size))\n",
    "        y_jax = jax.random.normal(key, (size, 100))\n",
    "\n",
    "        result_np_single = %timeit -n10 -o np.matmul(x_np, y_np)\n",
    "        result_jax_single = %timeit -n10 -o jnp.matmul(x_jax, y_jax).block_until_ready()\n",
    "        \n",
    "        results_np.append(result_np_single)\n",
    "        results_jax.append(result_jax_single)    \n",
    "    return result_np, result_jax\n",
    "\n",
    "\n",
    "def profile_gradient(shapes):\n",
    "    results_np = []\n",
    "    results_jax = []\n",
    "    for shape in shapes:\n",
    "        print(\"Profiling with size %s\" % size)\n",
    "        x_np = np.random.randn(*shape)\n",
    "    \n",
    "        key = jax.random.PRNGKey(1)\n",
    "        x_jax = jax.random.normal(key, shape)\n",
    "    \n",
    "        result_np_single = %timeit -n10 -o np.gradient(x_np)\n",
    "        result_jax_single = %timeit -n10 -o jnp.gradient(x_jax).block_until_ready()\n",
    "        \n",
    "        results_np.append(result_np_single)\n",
    "        results_jax.append(result_jax_single)   \n",
    "    return results_np, result_jax\n",
    "\n",
    "\n",
    "def plot(results_np, results_jax):\n",
    "    np_averages = np.array([x.average for x in results_np])\n",
    "    np_stds = np.array([x.stdev for x in results_np])\n",
    "\n",
    "    jax_averages = np.array([x.average for x in results_jax])\n",
    "    jax_stds = np.array([x.stdev for x in results_jax])\n",
    "    \n",
    "    fig, ax = plt.subplots(figsize=(15, 8))\n",
    "    ax.plot(np_averages)\n",
    "    ax.fill_between(range(len(np_averages)), np_averages + np_stds, np_averages - np_stds, alpha=0.3)\n",
    "    ax.plot(jax_averages)\n",
    "    ax.fill_between(range(len(jax_averages)), jax_averages + jax_stds, jax_averages - jax_stds, alpha=0.3)\n",
    "    fig.legend(labels=[\"np\", \"jax\"])\n",
    "    plt.show()"
   ]
  },
  {
   "cell_type": "code",
   "execution_count": 144,
   "metadata": {},
   "outputs": [
    {
     "name": "stdout",
     "output_type": "stream",
     "text": [
      "Profiling with size 0\n",
      "30.8 µs ± 1.25 µs per loop (mean ± std. dev. of 7 runs, 10 loops each)\n",
      "128 µs ± 14.4 µs per loop (mean ± std. dev. of 7 runs, 10 loops each)\n",
      "Profiling with size 100\n",
      "115 µs ± 6 µs per loop (mean ± std. dev. of 7 runs, 10 loops each)\n",
      "The slowest run took 4.21 times longer than the fastest. This could mean that an intermediate result is being cached.\n",
      "313 µs ± 216 µs per loop (mean ± std. dev. of 7 runs, 10 loops each)\n",
      "Profiling with size 200\n",
      "246 µs ± 7.57 µs per loop (mean ± std. dev. of 7 runs, 10 loops each)\n",
      "282 µs ± 53.9 µs per loop (mean ± std. dev. of 7 runs, 10 loops each)\n",
      "Profiling with size 300\n",
      "354 µs ± 20.6 µs per loop (mean ± std. dev. of 7 runs, 10 loops each)\n",
      "291 µs ± 25.9 µs per loop (mean ± std. dev. of 7 runs, 10 loops each)\n",
      "Profiling with size 400\n",
      "469 µs ± 11 µs per loop (mean ± std. dev. of 7 runs, 10 loops each)\n",
      "414 µs ± 192 µs per loop (mean ± std. dev. of 7 runs, 10 loops each)\n",
      "Profiling with size 500\n",
      "563 µs ± 45.6 µs per loop (mean ± std. dev. of 7 runs, 10 loops each)\n",
      "354 µs ± 38.1 µs per loop (mean ± std. dev. of 7 runs, 10 loops each)\n",
      "Profiling with size 600\n",
      "491 µs ± 154 µs per loop (mean ± std. dev. of 7 runs, 10 loops each)\n",
      "373 µs ± 21.9 µs per loop (mean ± std. dev. of 7 runs, 10 loops each)\n",
      "Profiling with size 700\n",
      "434 µs ± 24.6 µs per loop (mean ± std. dev. of 7 runs, 10 loops each)\n",
      "492 µs ± 108 µs per loop (mean ± std. dev. of 7 runs, 10 loops each)\n",
      "Profiling with size 800\n",
      "504 µs ± 59.1 µs per loop (mean ± std. dev. of 7 runs, 10 loops each)\n",
      "389 µs ± 28.9 µs per loop (mean ± std. dev. of 7 runs, 10 loops each)\n",
      "Profiling with size 900\n",
      "543 µs ± 39.6 µs per loop (mean ± std. dev. of 7 runs, 10 loops each)\n",
      "443 µs ± 30.1 µs per loop (mean ± std. dev. of 7 runs, 10 loops each)\n",
      "Profiling with size 1000\n",
      "779 µs ± 188 µs per loop (mean ± std. dev. of 7 runs, 10 loops each)\n",
      "512 µs ± 49 µs per loop (mean ± std. dev. of 7 runs, 10 loops each)\n",
      "Profiling with size 1100\n",
      "738 µs ± 219 µs per loop (mean ± std. dev. of 7 runs, 10 loops each)\n",
      "516 µs ± 57.1 µs per loop (mean ± std. dev. of 7 runs, 10 loops each)\n",
      "Profiling with size 1200\n",
      "864 µs ± 201 µs per loop (mean ± std. dev. of 7 runs, 10 loops each)\n",
      "590 µs ± 134 µs per loop (mean ± std. dev. of 7 runs, 10 loops each)\n",
      "Profiling with size 1300\n",
      "776 µs ± 26.8 µs per loop (mean ± std. dev. of 7 runs, 10 loops each)\n",
      "512 µs ± 41.1 µs per loop (mean ± std. dev. of 7 runs, 10 loops each)\n",
      "Profiling with size 1400\n",
      "1.14 ms ± 290 µs per loop (mean ± std. dev. of 7 runs, 10 loops each)\n",
      "761 µs ± 176 µs per loop (mean ± std. dev. of 7 runs, 10 loops each)\n",
      "Profiling with size 1500\n",
      "928 µs ± 35.3 µs per loop (mean ± std. dev. of 7 runs, 10 loops each)\n",
      "547 µs ± 40.4 µs per loop (mean ± std. dev. of 7 runs, 10 loops each)\n",
      "Profiling with size 1600\n",
      "1.3 ms ± 311 µs per loop (mean ± std. dev. of 7 runs, 10 loops each)\n",
      "497 µs ± 57.3 µs per loop (mean ± std. dev. of 7 runs, 10 loops each)\n",
      "Profiling with size 1700\n",
      "1.06 ms ± 42.7 µs per loop (mean ± std. dev. of 7 runs, 10 loops each)\n",
      "556 µs ± 31.2 µs per loop (mean ± std. dev. of 7 runs, 10 loops each)\n",
      "Profiling with size 1800\n",
      "1.48 ms ± 357 µs per loop (mean ± std. dev. of 7 runs, 10 loops each)\n",
      "618 µs ± 41.5 µs per loop (mean ± std. dev. of 7 runs, 10 loops each)\n",
      "Profiling with size 1900\n",
      "1.28 ms ± 41.8 µs per loop (mean ± std. dev. of 7 runs, 10 loops each)\n",
      "588 µs ± 33.1 µs per loop (mean ± std. dev. of 7 runs, 10 loops each)\n",
      "Profiling with size 2000\n",
      "1.37 ms ± 47.6 µs per loop (mean ± std. dev. of 7 runs, 10 loops each)\n",
      "606 µs ± 47.2 µs per loop (mean ± std. dev. of 7 runs, 10 loops each)\n",
      "Profiling with size 2100\n",
      "1.7 ms ± 386 µs per loop (mean ± std. dev. of 7 runs, 10 loops each)\n",
      "665 µs ± 51.1 µs per loop (mean ± std. dev. of 7 runs, 10 loops each)\n",
      "Profiling with size 2200\n",
      "1.49 ms ± 63.6 µs per loop (mean ± std. dev. of 7 runs, 10 loops each)\n",
      "852 µs ± 219 µs per loop (mean ± std. dev. of 7 runs, 10 loops each)\n",
      "Profiling with size 2300\n",
      "2.17 ms ± 330 µs per loop (mean ± std. dev. of 7 runs, 10 loops each)\n",
      "909 µs ± 151 µs per loop (mean ± std. dev. of 7 runs, 10 loops each)\n",
      "Profiling with size 2400\n",
      "1.71 ms ± 86.8 µs per loop (mean ± std. dev. of 7 runs, 10 loops each)\n",
      "788 µs ± 93.8 µs per loop (mean ± std. dev. of 7 runs, 10 loops each)\n",
      "Profiling with size 2500\n",
      "1.72 ms ± 64.7 µs per loop (mean ± std. dev. of 7 runs, 10 loops each)\n",
      "872 µs ± 103 µs per loop (mean ± std. dev. of 7 runs, 10 loops each)\n",
      "Profiling with size 2600\n",
      "1.81 ms ± 200 µs per loop (mean ± std. dev. of 7 runs, 10 loops each)\n",
      "1.06 ms ± 338 µs per loop (mean ± std. dev. of 7 runs, 10 loops each)\n",
      "Profiling with size 2700\n",
      "1.96 ms ± 334 µs per loop (mean ± std. dev. of 7 runs, 10 loops each)\n",
      "1.17 ms ± 296 µs per loop (mean ± std. dev. of 7 runs, 10 loops each)\n",
      "Profiling with size 2800\n",
      "1.9 ms ± 70 µs per loop (mean ± std. dev. of 7 runs, 10 loops each)\n",
      "1.12 ms ± 360 µs per loop (mean ± std. dev. of 7 runs, 10 loops each)\n",
      "Profiling with size 2900\n",
      "2.03 ms ± 87.9 µs per loop (mean ± std. dev. of 7 runs, 10 loops each)\n",
      "1.17 ms ± 359 µs per loop (mean ± std. dev. of 7 runs, 10 loops each)\n",
      "Profiling with size 3000\n",
      "2.68 ms ± 579 µs per loop (mean ± std. dev. of 7 runs, 10 loops each)\n",
      "1.42 ms ± 245 µs per loop (mean ± std. dev. of 7 runs, 10 loops each)\n",
      "Profiling with size 3100\n",
      "2.74 ms ± 614 µs per loop (mean ± std. dev. of 7 runs, 10 loops each)\n",
      "849 µs ± 55.6 µs per loop (mean ± std. dev. of 7 runs, 10 loops each)\n",
      "Profiling with size 3200\n",
      "2.48 ms ± 461 µs per loop (mean ± std. dev. of 7 runs, 10 loops each)\n",
      "797 µs ± 81.9 µs per loop (mean ± std. dev. of 7 runs, 10 loops each)\n",
      "Profiling with size 3300\n",
      "2.55 ms ± 519 µs per loop (mean ± std. dev. of 7 runs, 10 loops each)\n",
      "834 µs ± 27.6 µs per loop (mean ± std. dev. of 7 runs, 10 loops each)\n",
      "Profiling with size 3400\n",
      "2.66 ms ± 483 µs per loop (mean ± std. dev. of 7 runs, 10 loops each)\n",
      "895 µs ± 51.4 µs per loop (mean ± std. dev. of 7 runs, 10 loops each)\n",
      "Profiling with size 3500\n",
      "2.98 ms ± 790 µs per loop (mean ± std. dev. of 7 runs, 10 loops each)\n",
      "830 µs ± 68.6 µs per loop (mean ± std. dev. of 7 runs, 10 loops each)\n",
      "Profiling with size 3600\n",
      "2.69 ms ± 504 µs per loop (mean ± std. dev. of 7 runs, 10 loops each)\n",
      "925 µs ± 47.6 µs per loop (mean ± std. dev. of 7 runs, 10 loops each)\n",
      "Profiling with size 3700\n",
      "2.83 ms ± 462 µs per loop (mean ± std. dev. of 7 runs, 10 loops each)\n",
      "1.37 ms ± 393 µs per loop (mean ± std. dev. of 7 runs, 10 loops each)\n",
      "Profiling with size 3800\n",
      "3.45 ms ± 565 µs per loop (mean ± std. dev. of 7 runs, 10 loops each)\n",
      "893 µs ± 96.4 µs per loop (mean ± std. dev. of 7 runs, 10 loops each)\n",
      "Profiling with size 3900\n",
      "3 ms ± 525 µs per loop (mean ± std. dev. of 7 runs, 10 loops each)\n",
      "985 µs ± 62.3 µs per loop (mean ± std. dev. of 7 runs, 10 loops each)\n",
      "Profiling with size 4000\n",
      "2.99 ms ± 555 µs per loop (mean ± std. dev. of 7 runs, 10 loops each)\n",
      "1.05 ms ± 97.9 µs per loop (mean ± std. dev. of 7 runs, 10 loops each)\n",
      "Profiling with size 4100\n",
      "3.06 ms ± 466 µs per loop (mean ± std. dev. of 7 runs, 10 loops each)\n",
      "1.12 ms ± 248 µs per loop (mean ± std. dev. of 7 runs, 10 loops each)\n",
      "Profiling with size 4200\n",
      "3.09 ms ± 443 µs per loop (mean ± std. dev. of 7 runs, 10 loops each)\n",
      "1.16 ms ± 85.3 µs per loop (mean ± std. dev. of 7 runs, 10 loops each)\n",
      "Profiling with size 4300\n",
      "3.28 ms ± 593 µs per loop (mean ± std. dev. of 7 runs, 10 loops each)\n",
      "1.12 ms ± 95 µs per loop (mean ± std. dev. of 7 runs, 10 loops each)\n",
      "Profiling with size 4400\n",
      "3.22 ms ± 605 µs per loop (mean ± std. dev. of 7 runs, 10 loops each)\n",
      "1 ms ± 66 µs per loop (mean ± std. dev. of 7 runs, 10 loops each)\n",
      "Profiling with size 4500\n",
      "3.5 ms ± 430 µs per loop (mean ± std. dev. of 7 runs, 10 loops each)\n",
      "1.19 ms ± 70.4 µs per loop (mean ± std. dev. of 7 runs, 10 loops each)\n",
      "Profiling with size 4600\n",
      "3.53 ms ± 407 µs per loop (mean ± std. dev. of 7 runs, 10 loops each)\n",
      "1.29 ms ± 58.7 µs per loop (mean ± std. dev. of 7 runs, 10 loops each)\n",
      "Profiling with size 4700\n",
      "3.52 ms ± 455 µs per loop (mean ± std. dev. of 7 runs, 10 loops each)\n",
      "1.11 ms ± 144 µs per loop (mean ± std. dev. of 7 runs, 10 loops each)\n",
      "Profiling with size 4800\n",
      "3.55 ms ± 512 µs per loop (mean ± std. dev. of 7 runs, 10 loops each)\n",
      "1.29 ms ± 265 µs per loop (mean ± std. dev. of 7 runs, 10 loops each)\n",
      "Profiling with size 4900\n",
      "4.51 ms ± 339 µs per loop (mean ± std. dev. of 7 runs, 10 loops each)\n",
      "1.4 ms ± 207 µs per loop (mean ± std. dev. of 7 runs, 10 loops each)\n",
      "Profiling with size 5000\n",
      "3.77 ms ± 538 µs per loop (mean ± std. dev. of 7 runs, 10 loops each)\n",
      "1.31 ms ± 96.1 µs per loop (mean ± std. dev. of 7 runs, 10 loops each)\n",
      "Profiling with size 5100\n",
      "4.3 ms ± 927 µs per loop (mean ± std. dev. of 7 runs, 10 loops each)\n",
      "1.13 ms ± 113 µs per loop (mean ± std. dev. of 7 runs, 10 loops each)\n",
      "Profiling with size 5200\n",
      "3.78 ms ± 499 µs per loop (mean ± std. dev. of 7 runs, 10 loops each)\n",
      "1.3 ms ± 84.7 µs per loop (mean ± std. dev. of 7 runs, 10 loops each)\n",
      "Profiling with size 5300\n",
      "3.78 ms ± 722 µs per loop (mean ± std. dev. of 7 runs, 10 loops each)\n",
      "1.33 ms ± 52.1 µs per loop (mean ± std. dev. of 7 runs, 10 loops each)\n",
      "Profiling with size 5400\n",
      "3.86 ms ± 672 µs per loop (mean ± std. dev. of 7 runs, 10 loops each)\n",
      "1.2 ms ± 49.5 µs per loop (mean ± std. dev. of 7 runs, 10 loops each)\n",
      "Profiling with size 5500\n",
      "3.91 ms ± 720 µs per loop (mean ± std. dev. of 7 runs, 10 loops each)\n",
      "1.36 ms ± 62.4 µs per loop (mean ± std. dev. of 7 runs, 10 loops each)\n",
      "Profiling with size 5600\n",
      "4.52 ms ± 932 µs per loop (mean ± std. dev. of 7 runs, 10 loops each)\n",
      "2.03 ms ± 278 µs per loop (mean ± std. dev. of 7 runs, 10 loops each)\n",
      "Profiling with size 5700\n",
      "5.49 ms ± 477 µs per loop (mean ± std. dev. of 7 runs, 10 loops each)\n",
      "1.7 ms ± 157 µs per loop (mean ± std. dev. of 7 runs, 10 loops each)\n",
      "Profiling with size 5800\n",
      "5.36 ms ± 1.52 ms per loop (mean ± std. dev. of 7 runs, 10 loops each)\n",
      "2.2 ms ± 277 µs per loop (mean ± std. dev. of 7 runs, 10 loops each)\n",
      "Profiling with size 5900\n",
      "5.56 ms ± 488 µs per loop (mean ± std. dev. of 7 runs, 10 loops each)\n",
      "2.27 ms ± 191 µs per loop (mean ± std. dev. of 7 runs, 10 loops each)\n",
      "Profiling with size 6000\n",
      "4.13 ms ± 737 µs per loop (mean ± std. dev. of 7 runs, 10 loops each)\n",
      "1.4 ms ± 131 µs per loop (mean ± std. dev. of 7 runs, 10 loops each)\n",
      "Profiling with size 6100\n",
      "4.44 ms ± 1.24 ms per loop (mean ± std. dev. of 7 runs, 10 loops each)\n",
      "1.6 ms ± 64.6 µs per loop (mean ± std. dev. of 7 runs, 10 loops each)\n",
      "Profiling with size 6200\n",
      "4.38 ms ± 1.03 ms per loop (mean ± std. dev. of 7 runs, 10 loops each)\n",
      "1.65 ms ± 124 µs per loop (mean ± std. dev. of 7 runs, 10 loops each)\n",
      "Profiling with size 6300\n",
      "4.54 ms ± 1 ms per loop (mean ± std. dev. of 7 runs, 10 loops each)\n",
      "1.43 ms ± 60.3 µs per loop (mean ± std. dev. of 7 runs, 10 loops each)\n",
      "Profiling with size 6400\n",
      "4.51 ms ± 1.04 ms per loop (mean ± std. dev. of 7 runs, 10 loops each)\n",
      "1.44 ms ± 77.5 µs per loop (mean ± std. dev. of 7 runs, 10 loops each)\n",
      "Profiling with size 6500\n",
      "4.52 ms ± 1.05 ms per loop (mean ± std. dev. of 7 runs, 10 loops each)\n",
      "1.63 ms ± 81.4 µs per loop (mean ± std. dev. of 7 runs, 10 loops each)\n",
      "Profiling with size 6600\n",
      "4.64 ms ± 1.06 ms per loop (mean ± std. dev. of 7 runs, 10 loops each)\n",
      "1.5 ms ± 127 µs per loop (mean ± std. dev. of 7 runs, 10 loops each)\n",
      "Profiling with size 6700\n",
      "8.49 ms ± 178 µs per loop (mean ± std. dev. of 7 runs, 10 loops each)\n",
      "2.12 ms ± 255 µs per loop (mean ± std. dev. of 7 runs, 10 loops each)\n",
      "Profiling with size 6800\n",
      "5.25 ms ± 1.64 ms per loop (mean ± std. dev. of 7 runs, 10 loops each)\n",
      "1.84 ms ± 105 µs per loop (mean ± std. dev. of 7 runs, 10 loops each)\n",
      "Profiling with size 6900\n",
      "4.58 ms ± 624 µs per loop (mean ± std. dev. of 7 runs, 10 loops each)\n",
      "1.55 ms ± 116 µs per loop (mean ± std. dev. of 7 runs, 10 loops each)\n",
      "Profiling with size 7000\n",
      "4.81 ms ± 963 µs per loop (mean ± std. dev. of 7 runs, 10 loops each)\n",
      "1.51 ms ± 60.1 µs per loop (mean ± std. dev. of 7 runs, 10 loops each)\n",
      "Profiling with size 7100\n",
      "4.97 ms ± 813 µs per loop (mean ± std. dev. of 7 runs, 10 loops each)\n",
      "1.8 ms ± 40.8 µs per loop (mean ± std. dev. of 7 runs, 10 loops each)\n",
      "Profiling with size 7200\n",
      "4.72 ms ± 563 µs per loop (mean ± std. dev. of 7 runs, 10 loops each)\n",
      "1.61 ms ± 135 µs per loop (mean ± std. dev. of 7 runs, 10 loops each)\n",
      "Profiling with size 7300\n",
      "5.8 ms ± 846 µs per loop (mean ± std. dev. of 7 runs, 10 loops each)\n",
      "2.66 ms ± 364 µs per loop (mean ± std. dev. of 7 runs, 10 loops each)\n",
      "Profiling with size 7400\n",
      "5.48 ms ± 791 µs per loop (mean ± std. dev. of 7 runs, 10 loops each)\n",
      "1.89 ms ± 47.9 µs per loop (mean ± std. dev. of 7 runs, 10 loops each)\n",
      "Profiling with size 7500\n",
      "4.98 ms ± 636 µs per loop (mean ± std. dev. of 7 runs, 10 loops each)\n",
      "1.88 ms ± 72.4 µs per loop (mean ± std. dev. of 7 runs, 10 loops each)\n",
      "Profiling with size 7600\n",
      "5.15 ms ± 750 µs per loop (mean ± std. dev. of 7 runs, 10 loops each)\n",
      "1.65 ms ± 86.9 µs per loop (mean ± std. dev. of 7 runs, 10 loops each)\n",
      "Profiling with size 7700\n",
      "5.03 ms ± 547 µs per loop (mean ± std. dev. of 7 runs, 10 loops each)\n",
      "1.93 ms ± 53.6 µs per loop (mean ± std. dev. of 7 runs, 10 loops each)\n",
      "Profiling with size 7800\n",
      "5.19 ms ± 898 µs per loop (mean ± std. dev. of 7 runs, 10 loops each)\n",
      "1.96 ms ± 96.8 µs per loop (mean ± std. dev. of 7 runs, 10 loops each)\n",
      "Profiling with size 7900\n",
      "5.12 ms ± 384 µs per loop (mean ± std. dev. of 7 runs, 10 loops each)\n",
      "1.81 ms ± 92.1 µs per loop (mean ± std. dev. of 7 runs, 10 loops each)\n",
      "Profiling with size 8000\n",
      "5.93 ms ± 611 µs per loop (mean ± std. dev. of 7 runs, 10 loops each)\n",
      "1.73 ms ± 156 µs per loop (mean ± std. dev. of 7 runs, 10 loops each)\n",
      "Profiling with size 8100\n",
      "5.16 ms ± 489 µs per loop (mean ± std. dev. of 7 runs, 10 loops each)\n",
      "2.03 ms ± 59.4 µs per loop (mean ± std. dev. of 7 runs, 10 loops each)\n",
      "Profiling with size 8200\n",
      "5.77 ms ± 1.2 ms per loop (mean ± std. dev. of 7 runs, 10 loops each)\n",
      "1.83 ms ± 165 µs per loop (mean ± std. dev. of 7 runs, 10 loops each)\n",
      "Profiling with size 8300\n",
      "6.13 ms ± 1.39 ms per loop (mean ± std. dev. of 7 runs, 10 loops each)\n",
      "1.82 ms ± 79.3 µs per loop (mean ± std. dev. of 7 runs, 10 loops each)\n",
      "Profiling with size 8400\n",
      "6.27 ms ± 804 µs per loop (mean ± std. dev. of 7 runs, 10 loops each)\n",
      "2.12 ms ± 65.5 µs per loop (mean ± std. dev. of 7 runs, 10 loops each)\n",
      "Profiling with size 8500\n",
      "5.84 ms ± 659 µs per loop (mean ± std. dev. of 7 runs, 10 loops each)\n",
      "1.83 ms ± 77.6 µs per loop (mean ± std. dev. of 7 runs, 10 loops each)\n",
      "Profiling with size 8600\n",
      "5.73 ms ± 878 µs per loop (mean ± std. dev. of 7 runs, 10 loops each)\n",
      "1.94 ms ± 134 µs per loop (mean ± std. dev. of 7 runs, 10 loops each)\n",
      "Profiling with size 8700\n",
      "8.02 ms ± 2.41 ms per loop (mean ± std. dev. of 7 runs, 10 loops each)\n",
      "2.23 ms ± 73.9 µs per loop (mean ± std. dev. of 7 runs, 10 loops each)\n",
      "Profiling with size 8800\n",
      "7.19 ms ± 1.13 ms per loop (mean ± std. dev. of 7 runs, 10 loops each)\n",
      "2.61 ms ± 628 µs per loop (mean ± std. dev. of 7 runs, 10 loops each)\n",
      "Profiling with size 8900\n",
      "5.85 ms ± 744 µs per loop (mean ± std. dev. of 7 runs, 10 loops each)\n",
      "1.92 ms ± 64.9 µs per loop (mean ± std. dev. of 7 runs, 10 loops each)\n",
      "Profiling with size 9000\n",
      "5.95 ms ± 730 µs per loop (mean ± std. dev. of 7 runs, 10 loops each)\n",
      "2.3 ms ± 48.8 µs per loop (mean ± std. dev. of 7 runs, 10 loops each)\n",
      "Profiling with size 9100\n",
      "6.5 ms ± 1.9 ms per loop (mean ± std. dev. of 7 runs, 10 loops each)\n",
      "1.96 ms ± 85.5 µs per loop (mean ± std. dev. of 7 runs, 10 loops each)\n",
      "Profiling with size 9200\n",
      "5.92 ms ± 486 µs per loop (mean ± std. dev. of 7 runs, 10 loops each)\n",
      "1.95 ms ± 54.6 µs per loop (mean ± std. dev. of 7 runs, 10 loops each)\n",
      "Profiling with size 9300\n",
      "5.94 ms ± 504 µs per loop (mean ± std. dev. of 7 runs, 10 loops each)\n",
      "2.34 ms ± 61.9 µs per loop (mean ± std. dev. of 7 runs, 10 loops each)\n",
      "Profiling with size 9400\n",
      "6.27 ms ± 481 µs per loop (mean ± std. dev. of 7 runs, 10 loops each)\n",
      "2.01 ms ± 52.1 µs per loop (mean ± std. dev. of 7 runs, 10 loops each)\n",
      "Profiling with size 9500\n",
      "6.12 ms ± 569 µs per loop (mean ± std. dev. of 7 runs, 10 loops each)\n",
      "2.08 ms ± 70.6 µs per loop (mean ± std. dev. of 7 runs, 10 loops each)\n",
      "Profiling with size 9600\n",
      "6.39 ms ± 566 µs per loop (mean ± std. dev. of 7 runs, 10 loops each)\n",
      "2.1 ms ± 71.8 µs per loop (mean ± std. dev. of 7 runs, 10 loops each)\n",
      "Profiling with size 9700\n",
      "6.14 ms ± 581 µs per loop (mean ± std. dev. of 7 runs, 10 loops each)\n",
      "3.46 ms ± 742 µs per loop (mean ± std. dev. of 7 runs, 10 loops each)\n",
      "Profiling with size 9800\n",
      "8.56 ms ± 1.89 ms per loop (mean ± std. dev. of 7 runs, 10 loops each)\n",
      "2.14 ms ± 103 µs per loop (mean ± std. dev. of 7 runs, 10 loops each)\n",
      "Profiling with size 9900\n",
      "6.38 ms ± 501 µs per loop (mean ± std. dev. of 7 runs, 10 loops each)\n",
      "2.19 ms ± 105 µs per loop (mean ± std. dev. of 7 runs, 10 loops each)\n"
     ]
    }
   ],
   "source": [
    "profile_matmul"
   ]
  },
  {
   "cell_type": "markdown",
   "metadata": {},
   "source": [
    "#### `numpy`"
   ]
  },
  {
   "cell_type": "code",
   "execution_count": 146,
   "metadata": {},
   "outputs": [
    {
     "data": {
      "image/png": "[encoded data removed]",
      "text/plain": [
       "<Figure size 1080x576 with 1 Axes>"
      ]
     },
     "metadata": {
      "needs_background": "light"
     },
     "output_type": "display_data"
    }
   ],
   "source": [
    "\n",
    "plot(results_np, results_jax)"
   ]
  },
  {
   "cell_type": "code",
   "execution_count": 29,
   "metadata": {
    "colab": {
     "base_uri": "https://localhost:8080/",
     "height": 239
    },
    "colab_type": "code",
    "id": "Nbf5egdn4QOo",
    "outputId": "a93d86c7-1bb2-4ed5-82f4-924d15438fad"
   },
   "outputs": [
    {
     "name": "stdout",
     "output_type": "stream",
     "text": [
      "12.7 ms ± 102 µs per loop (mean ± std. dev. of 7 runs, 100 loops each)\n"
     ]
    },
    {
     "data": {
      "text/plain": [
       "0.012745180545715423"
      ]
     },
     "execution_count": 29,
     "metadata": {},
     "output_type": "execute_result"
    }
   ],
   "source": [
    "ones = np.ones((100, 100, 100))\n",
    "result_numpy = %timeit -o np.gradient(ones)\n",
    "result_numpy.average"
   ]
  },
  {
   "cell_type": "markdown",
   "metadata": {},
   "source": [
    "#### `jax`"
   ]
  },
  {
   "cell_type": "code",
   "execution_count": 30,
   "metadata": {
    "colab": {},
    "colab_type": "code",
    "id": "Ru38agKiIpdh"
   },
   "outputs": [
    {
     "name": "stdout",
     "output_type": "stream",
     "text": [
      "2.21 ms ± 53.2 µs per loop (mean ± std. dev. of 7 runs, 100 loops each)\n"
     ]
    },
    {
     "data": {
      "text/plain": [
       "0.002210476161429012"
      ]
     },
     "execution_count": 30,
     "metadata": {},
     "output_type": "execute_result"
    }
   ],
   "source": [
    "grad = jax.jit(jnp.gradient)\n",
    "ones = jnp.ones((100, 100, 100))\n",
    "result_jax = %timeit -o grad(ones)\n",
    "result_jax.average"
   ]
  },
  {
   "cell_type": "markdown",
   "metadata": {},
   "source": [
    "### Profile `matmul`\n",
    "---"
   ]
  },
  {
   "cell_type": "markdown",
   "metadata": {},
   "source": [
    "#### `numpy`"
   ]
  },
  {
   "cell_type": "code",
   "execution_count": 125,
   "metadata": {},
   "outputs": [
    {
     "ename": "NameError",
     "evalue": "name 'np' is not defined",
     "output_type": "error",
     "traceback": [
      "\u001b[0;31m---------------------------------------------------------------------------\u001b[0m",
      "\u001b[0;31mNameError\u001b[0m                                 Traceback (most recent call last)",
      "\u001b[0;32m<ipython-input-125-7b9f98938632>\u001b[0m in \u001b[0;36m<module>\u001b[0;34m\u001b[0m\n\u001b[1;32m      1\u001b[0m \u001b[0mx\u001b[0m \u001b[0;34m=\u001b[0m \u001b[0mnp\u001b[0m\u001b[0;34m.\u001b[0m\u001b[0mrandom\u001b[0m\u001b[0;34m.\u001b[0m\u001b[0mrandn\u001b[0m\u001b[0;34m(\u001b[0m\u001b[0;36m1000\u001b[0m\u001b[0;34m,\u001b[0m \u001b[0;36m200\u001b[0m\u001b[0;34m)\u001b[0m\u001b[0;34m\u001b[0m\u001b[0;34m\u001b[0m\u001b[0m\n\u001b[1;32m      2\u001b[0m \u001b[0my\u001b[0m \u001b[0;34m=\u001b[0m \u001b[0mnp\u001b[0m\u001b[0;34m.\u001b[0m\u001b[0mrandom\u001b[0m\u001b[0;34m.\u001b[0m\u001b[0mrandn\u001b[0m\u001b[0;34m(\u001b[0m\u001b[0;36m200\u001b[0m\u001b[0;34m,\u001b[0m \u001b[0;36m1000\u001b[0m\u001b[0;34m)\u001b[0m\u001b[0;34m\u001b[0m\u001b[0;34m\u001b[0m\u001b[0m\n\u001b[0;32m----> 3\u001b[0;31m \u001b[0mtimeit\u001b[0m\u001b[0;34m(\u001b[0m\u001b[0;34m\"np.matmul(x, y)\"\u001b[0m\u001b[0;34m)\u001b[0m\u001b[0;34m\u001b[0m\u001b[0;34m\u001b[0m\u001b[0m\n\u001b[0m",
      "\u001b[0;32m~/anaconda3/envs/dh/lib/python3.7/timeit.py\u001b[0m in \u001b[0;36mtimeit\u001b[0;34m(stmt, setup, timer, number, globals)\u001b[0m\n\u001b[1;32m    230\u001b[0m            number=default_number, globals=None):\n\u001b[1;32m    231\u001b[0m     \u001b[0;34m\"\"\"Convenience function to create Timer object and call timeit method.\"\"\"\u001b[0m\u001b[0;34m\u001b[0m\u001b[0;34m\u001b[0m\u001b[0m\n\u001b[0;32m--> 232\u001b[0;31m     \u001b[0;32mreturn\u001b[0m \u001b[0mTimer\u001b[0m\u001b[0;34m(\u001b[0m\u001b[0mstmt\u001b[0m\u001b[0;34m,\u001b[0m \u001b[0msetup\u001b[0m\u001b[0;34m,\u001b[0m \u001b[0mtimer\u001b[0m\u001b[0;34m,\u001b[0m \u001b[0mglobals\u001b[0m\u001b[0;34m)\u001b[0m\u001b[0;34m.\u001b[0m\u001b[0mtimeit\u001b[0m\u001b[0;34m(\u001b[0m\u001b[0mnumber\u001b[0m\u001b[0;34m)\u001b[0m\u001b[0;34m\u001b[0m\u001b[0;34m\u001b[0m\u001b[0m\n\u001b[0m\u001b[1;32m    233\u001b[0m \u001b[0;34m\u001b[0m\u001b[0m\n\u001b[1;32m    234\u001b[0m def repeat(stmt=\"pass\", setup=\"pass\", timer=default_timer,\n",
      "\u001b[0;32m~/anaconda3/envs/dh/lib/python3.7/timeit.py\u001b[0m in \u001b[0;36mtimeit\u001b[0;34m(self, number)\u001b[0m\n\u001b[1;32m    174\u001b[0m         \u001b[0mgc\u001b[0m\u001b[0;34m.\u001b[0m\u001b[0mdisable\u001b[0m\u001b[0;34m(\u001b[0m\u001b[0;34m)\u001b[0m\u001b[0;34m\u001b[0m\u001b[0;34m\u001b[0m\u001b[0m\n\u001b[1;32m    175\u001b[0m         \u001b[0;32mtry\u001b[0m\u001b[0;34m:\u001b[0m\u001b[0;34m\u001b[0m\u001b[0;34m\u001b[0m\u001b[0m\n\u001b[0;32m--> 176\u001b[0;31m             \u001b[0mtiming\u001b[0m \u001b[0;34m=\u001b[0m \u001b[0mself\u001b[0m\u001b[0;34m.\u001b[0m\u001b[0minner\u001b[0m\u001b[0;34m(\u001b[0m\u001b[0mit\u001b[0m\u001b[0;34m,\u001b[0m \u001b[0mself\u001b[0m\u001b[0;34m.\u001b[0m\u001b[0mtimer\u001b[0m\u001b[0;34m)\u001b[0m\u001b[0;34m\u001b[0m\u001b[0;34m\u001b[0m\u001b[0m\n\u001b[0m\u001b[1;32m    177\u001b[0m         \u001b[0;32mfinally\u001b[0m\u001b[0;34m:\u001b[0m\u001b[0;34m\u001b[0m\u001b[0;34m\u001b[0m\u001b[0m\n\u001b[1;32m    178\u001b[0m             \u001b[0;32mif\u001b[0m \u001b[0mgcold\u001b[0m\u001b[0;34m:\u001b[0m\u001b[0;34m\u001b[0m\u001b[0;34m\u001b[0m\u001b[0m\n",
      "\u001b[0;32m~/anaconda3/envs/dh/lib/python3.7/timeit.py\u001b[0m in \u001b[0;36minner\u001b[0;34m(_it, _timer)\u001b[0m\n",
      "\u001b[0;31mNameError\u001b[0m: name 'np' is not defined"
     ]
    }
   ],
   "source": [
    "x = np.random.randn(1000, 200)\n",
    "y = np.random.randn(200, 1000)\n",
    "timeit(\"np.matmul(x, y)\")"
   ]
  },
  {
   "cell_type": "markdown",
   "metadata": {},
   "source": [
    "#### `jax`"
   ]
  },
  {
   "cell_type": "code",
   "execution_count": 4,
   "metadata": {},
   "outputs": [
    {
     "name": "stdout",
     "output_type": "stream",
     "text": [
      "1.7 ms ± 52.1 µs per loop (mean ± std. dev. of 7 runs, 1000 loops each)\n"
     ]
    }
   ],
   "source": [
    "# function to profile\n",
    "func = jax.jit(jnp.matmul)\n",
    "\n",
    "key = jax.random.PRNGKey(1)\n",
    "\n",
    "for i in range(1000):\n",
    "    x = jax.random.normal(key, (1000, i))\n",
    "    y = jax.random.normal(key, (i, 1000))\n",
    "    %timeit func(x, y).block_until_ready()"
   ]
  },
  {
   "cell_type": "code",
   "execution_count": 8,
   "metadata": {},
   "outputs": [
    {
     "name": "stdout",
     "output_type": "stream",
     "text": [
      "6.88 ns ± 0.216 ns per loop (mean ± std. dev. of 7 runs, 100000000 loops each)\n"
     ]
    }
   ],
   "source": [
    "timeit(\"matmul(x, y)\")"
   ]
  },
  {
   "cell_type": "code",
   "execution_count": null,
   "metadata": {},
   "outputs": [],
   "source": []
  }
 ],
 "metadata": {
  "colab": {
   "collapsed_sections": [],
   "include_colab_link": true,
   "name": "fenton-karma-jax.ipynb",
   "provenance": [],
   "toc_visible": true
  },
  "kernelspec": {
   "display_name": "Python 3",
   "language": "python",
   "name": "python3"
  },
  "language_info": {
   "codemirror_mode": {
    "name": "ipython",
    "version": 3
   },
   "file_extension": ".py",
   "mimetype": "text/x-python",
   "name": "python",
   "nbconvert_exporter": "python",
   "pygments_lexer": "ipython3",
   "version": "3.7.6"
  }
 },
 "nbformat": 4,
 "nbformat_minor": 4
}
