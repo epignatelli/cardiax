{
  "nbformat": 4,
  "nbformat_minor": 0,
  "metadata": {
    "colab": {
      "name": "fenton-karma-jax.ipynb",
      "provenance": [],
      "collapsed_sections": [],
      "toc_visible": true,
      "include_colab_link": true
    },
    "kernelspec": {
      "name": "python3",
      "display_name": "Python 3"
    },
    "language_info": {
      "codemirror_mode": {
        "name": "ipython",
        "version": 3
      },
      "file_extension": ".py",
      "mimetype": "text/x-python",
      "name": "python",
      "nbconvert_exporter": "python",
      "pygments_lexer": "ipython3",
      "version": "3.7.6"
    }
  },
  "cells": [
    {
      "cell_type": "markdown",
      "metadata": {
        "id": "view-in-github",
        "colab_type": "text"
      },
      "source": [
        "<a href=\"https://colab.research.google.com/github/epignatelli/fenton_karma_jax/blob/master/fenton_karma_jax_cpu.ipynb\" target=\"_parent\"><img src=\"https://colab.research.google.com/assets/colab-badge.svg\" alt=\"Open In Colab\"/></a>"
      ]
    },
    {
      "cell_type": "code",
      "metadata": {
        "id": "3NyyrGnqIuMJ",
        "colab_type": "code",
        "outputId": "d0525e44-a9bf-47c7-b7f2-108b80dcd491",
        "colab": {
          "base_uri": "https://localhost:8080/",
          "height": 139
        }
      },
      "source": [
        "!git clone https://github.com/epignatelli/fenton_karma_jax.git"
      ],
      "execution_count": 1,
      "outputs": [
        {
          "output_type": "stream",
          "text": [
            "Cloning into 'fenton_karma_jax'...\n",
            "remote: Enumerating objects: 183, done.\u001b[K\n",
            "remote: Counting objects: 100% (183/183), done.\u001b[K\n",
            "remote: Compressing objects: 100% (161/161), done.\u001b[K\n",
            "remote: Total 183 (delta 92), reused 32 (delta 12), pack-reused 0\u001b[K\n",
            "Receiving objects: 100% (183/183), 383.07 KiB | 14.19 MiB/s, done.\n",
            "Resolving deltas: 100% (92/92), done.\n"
          ],
          "name": "stdout"
        }
      ]
    },
    {
      "cell_type": "code",
      "metadata": {
        "colab_type": "code",
        "id": "vUv_EBY-3AQL",
        "colab": {}
      },
      "source": [
        "from fenton_karma_jax import params\n",
        "from fenton_karma_jax import model\n",
        "import matplotlib.pyplot as plt\n",
        "import jax\n",
        "import jax.numpy as np"
      ],
      "execution_count": 0,
      "outputs": []
    },
    {
      "cell_type": "code",
      "metadata": {
        "colab_type": "code",
        "id": "h4wpfYDF31k4",
        "colab": {}
      },
      "source": [
        "# geometry\n",
        "shape = (1024, 1024)\n",
        "dt = 0.01\n",
        "\n",
        "# diffusivity map\n",
        "d = 0.05\n",
        "D = np.ones(shape) * d\n",
        "\n",
        "# stimuli\n",
        "field = np.zeros(shape)\n",
        "field = jax.ops.index_update(field, jax.ops.index[0:20], .8)\n",
        "s1 = {\n",
        "    \"field\": field,\n",
        "    \"start\": 0,\n",
        "    \"duration\": 2,\n",
        "    \"period\": 0  # non-cyclic\n",
        "}\n",
        "\n",
        "field2 = np.zeros(shape)\n",
        "field2 = jax.ops.index_update(field, jax.ops.index[:, -20:], .5)\n",
        "s2 = {\n",
        "    \"field\": field2,\n",
        "    \"start\": 200,\n",
        "    \"duration\": 2,\n",
        "    \"period\": 0  # non-cyclic\n",
        "}\n",
        "\n",
        "field3 = np.zeros(shape)\n",
        "field2 = jax.ops.index_update(field, jax.ops.index[40:60], .5)\n",
        "s3 = {\n",
        "    \"field\": field3,\n",
        "    \"start\": 360,\n",
        "    \"duration\": 15,\n",
        "    \"period\": 0  # non-cyclic\n",
        "}"
      ],
      "execution_count": 0,
      "outputs": []
    },
    {
      "cell_type": "code",
      "metadata": {
        "colab_type": "code",
        "id": "Nbf5egdn4QOo",
        "outputId": "9a33c3f6-b982-4cae-9cb8-4b3ee344f000",
        "colab": {
          "base_uri": "https://localhost:8080/",
          "height": 34
        }
      },
      "source": [
        "%%timeit -n10\n",
        "state = model.forward(shape, 1000, params.params_test(), D, [s1, s2], dt)[0].block_until_ready()"
      ],
      "execution_count": 45,
      "outputs": [
        {
          "output_type": "stream",
          "text": [
            "10 loops, best of 3: 45 s per loop\n"
          ],
          "name": "stdout"
        }
      ]
    },
    {
      "cell_type": "code",
      "metadata": {
        "id": "0O54K1h-2r1y",
        "colab_type": "code",
        "colab": {
          "base_uri": "https://localhost:8080/",
          "height": 34
        },
        "outputId": "8449a6d4-0792-46b2-c5f9-86b865397991"
      },
      "source": [
        "%%timeit -n10\n",
        "state = model.init(shape)\n",
        "p = params.params_test()\n",
        "for t in range(1000):\n",
        "    state = model.step(state, t * dt, p, D, [s1, s2], dt)\n",
        "state[0].block_until_ready()"
      ],
      "execution_count": 28,
      "outputs": [
        {
          "output_type": "stream",
          "text": [
            "10 loops, best of 3: 1.86 s per loop\n"
          ],
          "name": "stdout"
        }
      ]
    },
    {
      "cell_type": "code",
      "metadata": {
        "id": "fNETU7Bz3uql",
        "colab_type": "code",
        "colab": {
          "base_uri": "https://localhost:8080/",
          "height": 454
        },
        "outputId": "afb44851-c665-4c33-e774-23d4f473d9df"
      },
      "source": [
        "!lscpu"
      ],
      "execution_count": 46,
      "outputs": [
        {
          "output_type": "stream",
          "text": [
            "Architecture:        x86_64\n",
            "CPU op-mode(s):      32-bit, 64-bit\n",
            "Byte Order:          Little Endian\n",
            "CPU(s):              2\n",
            "On-line CPU(s) list: 0,1\n",
            "Thread(s) per core:  2\n",
            "Core(s) per socket:  1\n",
            "Socket(s):           1\n",
            "NUMA node(s):        1\n",
            "Vendor ID:           GenuineIntel\n",
            "CPU family:          6\n",
            "Model:               63\n",
            "Model name:          Intel(R) Xeon(R) CPU @ 2.30GHz\n",
            "Stepping:            0\n",
            "CPU MHz:             2300.000\n",
            "BogoMIPS:            4600.00\n",
            "Hypervisor vendor:   KVM\n",
            "Virtualization type: full\n",
            "L1d cache:           32K\n",
            "L1i cache:           32K\n",
            "L2 cache:            256K\n",
            "L3 cache:            46080K\n",
            "NUMA node0 CPU(s):   0,1\n",
            "Flags:               fpu vme de pse tsc msr pae mce cx8 apic sep mtrr pge mca cmov pat pse36 clflush mmx fxsr sse sse2 ss ht syscall nx pdpe1gb rdtscp lm constant_tsc rep_good nopl xtopology nonstop_tsc cpuid tsc_known_freq pni pclmulqdq ssse3 fma cx16 pcid sse4_1 sse4_2 x2apic movbe popcnt aes xsave avx f16c rdrand hypervisor lahf_lm abm invpcid_single ssbd ibrs ibpb stibp fsgsbase tsc_adjust bmi1 avx2 smep bmi2 erms invpcid xsaveopt arat md_clear arch_capabilities\n"
          ],
          "name": "stdout"
        }
      ]
    },
    {
      "cell_type": "code",
      "metadata": {
        "id": "761sirDKDefx",
        "colab_type": "code",
        "colab": {}
      },
      "source": [
        ""
      ],
      "execution_count": 0,
      "outputs": []
    }
  ]
}