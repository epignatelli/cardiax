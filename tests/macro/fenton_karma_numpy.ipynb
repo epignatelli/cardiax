{
  "nbformat": 4,
  "nbformat_minor": 0,
  "metadata": {
    "colab": {
      "name": "fenton_karma_numpy.ipynb",
      "provenance": [],
      "collapsed_sections": [],
      "toc_visible": true,
      "include_colab_link": true
    },
    "kernelspec": {
      "name": "python3",
      "display_name": "Python 3"
    },
    "language_info": {
      "codemirror_mode": {
        "name": "ipython",
        "version": 3
      },
      "file_extension": ".py",
      "mimetype": "text/x-python",
      "name": "python",
      "nbconvert_exporter": "python",
      "pygments_lexer": "ipython3",
      "version": "3.7.6"
    }
  },
  "cells": [
    {
      "cell_type": "markdown",
      "metadata": {
        "id": "view-in-github",
        "colab_type": "text"
      },
      "source": [
        "<a href=\"https://colab.research.google.com/github/epignatelli/fenton_karma_jax/blob/master/fenton_karma_numpy.ipynb\" target=\"_parent\"><img src=\"https://colab.research.google.com/assets/colab-badge.svg\" alt=\"Open In Colab\"/></a>"
      ]
    },
    {
      "cell_type": "code",
      "metadata": {
        "colab_type": "code",
        "id": "Qqn_fPK5x8Qd",
        "outputId": "74deba30-1570-4b44-da7f-e2c0fca2a8ae",
        "colab": {
          "base_uri": "https://localhost:8080/",
          "height": 34
        }
      },
      "source": [
        "!git clone https://github.com/epignatelli/fenton_karma_jax.git"
      ],
      "execution_count": 3,
      "outputs": [
        {
          "output_type": "stream",
          "text": [
            "fatal: destination path 'fenton_karma_jax' already exists and is not an empty directory.\n"
          ],
          "name": "stdout"
        }
      ]
    },
    {
      "cell_type": "code",
      "metadata": {
        "id": "fJ-GwOamnNKt",
        "colab_type": "code",
        "colab": {}
      },
      "source": [
        "from fenton_karma_jax import params\n",
        "import numpy as np\n",
        "import matplotlib.pyplot as plt"
      ],
      "execution_count": 0,
      "outputs": []
    },
    {
      "cell_type": "code",
      "metadata": {
        "colab_type": "code",
        "id": "h4wpfYDF31k4",
        "colab": {}
      },
      "source": [
        "def init(shape):\n",
        "    v = np.ones(shape) * 0.99\n",
        "    w = np.ones(shape) * 0.99\n",
        "    u = np.zeros(shape)\n",
        "    state = (v, w, u)   \n",
        "    return state\n",
        "\n",
        "\n",
        "def step(state, t, params, D, stimuli, dt):\n",
        "    v, w, u = state\n",
        "    \n",
        "    # apply stimulus\n",
        "    u = stimulate(t, u, stimuli)\n",
        "\n",
        "    # apply boundary conditions\n",
        "    v = neumann(v)\n",
        "    w = neumann(w)\n",
        "    u = neumann(u)\n",
        "\n",
        "    # gate variables\n",
        "    p = np.greater_equal(u, params[\"V_c\"])\n",
        "    q = np.greater_equal(u, params[\"V_v\"])\n",
        "    tau_v_minus = (1 - q) * params[\"tau_v1_minus\"] + q * params[\"tau_v2_minus\"]\n",
        "    \n",
        "    d_v = ((1 - p) * (1 - v) / tau_v_minus) - ((p * v) / params[\"tau_v_plus\"])\n",
        "    d_w = ((1 - p) * (1 - w) / params[\"tau_w_minus\"]) - ((p * w) / params[\"tau_w_plus\"])\n",
        "      \n",
        "    # currents\n",
        "    J_fi = - v * p * (u - params[\"V_c\"]) * (1 - u) / params[\"tau_d\"]\n",
        "    J_so = (u * (1 - p) / params[\"tau_0\"]) + (p / params[\"tau_r\"])\n",
        "    J_si = - (w * (1 + np.tanh(params[\"k\"] * (u - params[\"V_csi\"])))) / (2 * params[\"tau_si\"])\n",
        "    I_ion = -(J_fi + J_so + J_si) / params[\"Cm\"]\n",
        "\n",
        "    # voltage\n",
        "    u_x, u_y = np.gradient(u)\n",
        "    u_xx = np.gradient(u_x, axis=0)\n",
        "    u_yy = np.gradient(u_y, axis=1)\n",
        "    D_x, D_y = np.gradient(D)\n",
        "    d_u = 4 * D * (u_xx + u_yy) + ((D_x * u_x) + (D_y * u_y)) + I_ion\n",
        "    return euler((v, w, u), (d_v, d_w, d_u), dt)\n",
        "\n",
        "\n",
        "def euler(state, grad, dt):\n",
        "    v, w, u = state\n",
        "    d_v, d_w, d_u = grad\n",
        "\n",
        "    # explicit euler update\n",
        "    v += d_v * dt\n",
        "    w += d_w * dt\n",
        "    u += d_u * dt\n",
        "    return (v, w, u)\n",
        "\n",
        "\n",
        "def neumann(X):\n",
        "    X[0] = X[1]\n",
        "    X[1] = X[-2]\n",
        "    X[..., 0] = X[..., 1]\n",
        "    X[..., -1] = X[..., -2]\n",
        "    return X\n",
        "\n",
        "\n",
        "def stimulate(t, X, stimuli):\n",
        "    for stimulus in stimuli:\n",
        "        active = t > stimulus[\"start\"]\n",
        "        active &= t < stimulus[\"start\"] + stimulus[\"duration\"]\n",
        "        # for some weird reason checks for cyclic stimuli does not work \n",
        "        # active = (np.mod(t - stimulus[\"start\"], stimulus[\"period\"]) < stimulus[\"duration\"])  # cyclic\n",
        "        X = np.where(stimulus[\"field\"] * (active), stimulus[\"field\"], X)\n",
        "    return X\n",
        "\n",
        "\n",
        "def forward(shape, length, params, D, stimuli, dt, log_at=10):\n",
        "    # iterate\n",
        "    state = init(shape)\n",
        "    for i in range(length):\n",
        "        state = step(state, i * dt, params, D, stimuli, dt)\n",
        "    return state\n",
        "\n",
        "\n",
        "def show(state, **kwargs):\n",
        "    fig, ax = plt.subplots(1, 3, figsize=(kwargs.pop(\"figsize\", None) or (10, 3)))\n",
        "    im = ax[0].imshow(state[0], **kwargs)\n",
        "    plt.colorbar(im, ax=ax[0])\n",
        "    ax[0].set_title(\"v\")\n",
        "    im = ax[1].imshow(state[1], **kwargs)\n",
        "    plt.colorbar(im, ax=ax[1])\n",
        "    ax[1].set_title(\"w\")\n",
        "    im = ax[2].imshow(state[2], **kwargs)\n",
        "    plt.colorbar(im, ax=ax[2])\n",
        "    ax[2].set_title(\"u\")\n",
        "    plt.show()\n",
        "    return"
      ],
      "execution_count": 0,
      "outputs": []
    },
    {
      "cell_type": "code",
      "metadata": {
        "id": "lk1utm9YnNLA",
        "colab_type": "code",
        "colab": {}
      },
      "source": [
        "# geometry\n",
        "shape = (1024, 1024)\n",
        "dt = 0.1\n",
        "\n",
        "# diffusivity map\n",
        "d = 0.05\n",
        "D = np.ones(shape) * d\n",
        "\n",
        "# stimuli\n",
        "field = np.zeros(shape)\n",
        "field[0:20] = .8\n",
        "s1 = {\n",
        "    \"field\": field,\n",
        "    \"start\": 0,\n",
        "    \"duration\": 2,\n",
        "    \"period\": 0  # non-cyclic\n",
        "}\n",
        "\n",
        "field2 = np.zeros(shape)\n",
        "field2[:, -20:] = .5\n",
        "s2 = {\n",
        "    \"field\": field2,\n",
        "    \"start\": 200,\n",
        "    \"duration\": 2,\n",
        "    \"period\": 0  # non-cyclic\n",
        "}\n",
        "\n",
        "field3 = np.zeros(shape)\n",
        "field2[40:60] = .5\n",
        "s3 = {\n",
        "    \"field\": field3,\n",
        "    \"start\": 360,\n",
        "    \"duration\": 15,\n",
        "    \"period\": 0  # non-cyclic\n",
        "}"
      ],
      "execution_count": 0,
      "outputs": []
    },
    {
      "cell_type": "code",
      "metadata": {
        "colab_type": "code",
        "id": "Nbf5egdn4QOo",
        "outputId": "d7955a10-97c3-463a-b71d-0abc78f9cd67",
        "colab": {
          "base_uri": "https://localhost:8080/",
          "height": 34
        }
      },
      "source": [
        "%%timeit -n10\n",
        "state = forward(shape, 1000, params.params_test(), D, [s1, s2], dt)"
      ],
      "execution_count": 21,
      "outputs": [
        {
          "output_type": "stream",
          "text": [
            "1 loop, best of 3: 2min 28s per loop\n"
          ],
          "name": "stdout"
        }
      ]
    },
    {
      "cell_type": "code",
      "metadata": {
        "id": "dgEoF9r_8lHD",
        "colab_type": "code",
        "colab": {
          "base_uri": "https://localhost:8080/",
          "height": 454
        },
        "outputId": "16e3d472-e4ee-4f7c-b211-a1673578dbee"
      },
      "source": [
        "!lscpu"
      ],
      "execution_count": 17,
      "outputs": [
        {
          "output_type": "stream",
          "text": [
            "Architecture:        x86_64\n",
            "CPU op-mode(s):      32-bit, 64-bit\n",
            "Byte Order:          Little Endian\n",
            "CPU(s):              2\n",
            "On-line CPU(s) list: 0,1\n",
            "Thread(s) per core:  2\n",
            "Core(s) per socket:  1\n",
            "Socket(s):           1\n",
            "NUMA node(s):        1\n",
            "Vendor ID:           GenuineIntel\n",
            "CPU family:          6\n",
            "Model:               63\n",
            "Model name:          Intel(R) Xeon(R) CPU @ 2.30GHz\n",
            "Stepping:            0\n",
            "CPU MHz:             2300.000\n",
            "BogoMIPS:            4600.00\n",
            "Hypervisor vendor:   KVM\n",
            "Virtualization type: full\n",
            "L1d cache:           32K\n",
            "L1i cache:           32K\n",
            "L2 cache:            256K\n",
            "L3 cache:            46080K\n",
            "NUMA node0 CPU(s):   0,1\n",
            "Flags:               fpu vme de pse tsc msr pae mce cx8 apic sep mtrr pge mca cmov pat pse36 clflush mmx fxsr sse sse2 ss ht syscall nx pdpe1gb rdtscp lm constant_tsc rep_good nopl xtopology nonstop_tsc cpuid tsc_known_freq pni pclmulqdq ssse3 fma cx16 pcid sse4_1 sse4_2 x2apic movbe popcnt aes xsave avx f16c rdrand hypervisor lahf_lm abm invpcid_single ssbd ibrs ibpb stibp fsgsbase tsc_adjust bmi1 avx2 smep bmi2 erms invpcid xsaveopt arat md_clear arch_capabilities\n"
          ],
          "name": "stdout"
        }
      ]
    },
    {
      "cell_type": "code",
      "metadata": {
        "id": "u-KftBr5A9R-",
        "colab_type": "code",
        "colab": {}
      },
      "source": [
        ""
      ],
      "execution_count": 0,
      "outputs": []
    }
  ]
}