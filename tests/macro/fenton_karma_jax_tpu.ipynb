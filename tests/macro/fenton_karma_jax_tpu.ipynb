{
 "cells": [
  {
   "cell_type": "markdown",
   "metadata": {
    "colab_type": "text",
    "id": "view-in-github"
   },
   "source": [
    "<a href=\"https://colab.research.google.com/github/epignatelli/fenton_karma_jax/blob/master/fenton_karma_jax_tpu.ipynb\" target=\"_parent\"><img src=\"https://colab.research.google.com/assets/colab-badge.svg\" alt=\"Open In Colab\"/></a>"
   ]
  },
  {
   "cell_type": "code",
   "execution_count": 1,
   "metadata": {
    "colab": {
     "base_uri": "https://localhost:8080/",
     "height": 34
    },
    "colab_type": "code",
    "id": "ubXVAT5nHCXm",
    "outputId": "d30eab6d-9b39-4569-8bd9-c48426584a09"
   },
   "outputs": [
    {
     "name": "stdout",
     "output_type": "stream",
     "text": [
      "grpc://10.59.12.82:8470\n"
     ]
    }
   ],
   "source": [
    "# Colab runtime set to TPU accel\n",
    "import requests\n",
    "import os\n",
    "if 'TPU_DRIVER_MODE' not in globals():\n",
    "  url = 'http://' + os.environ['COLAB_TPU_ADDR'].split(':')[0] + ':8475/requestversion/tpu_driver_nightly'\n",
    "  resp = requests.post(url)\n",
    "  TPU_DRIVER_MODE = 1\n",
    "\n",
    "# TPU driver as backend for JAX\n",
    "from jax.config import config\n",
    "config.FLAGS.jax_xla_backend = \"tpu_driver\"\n",
    "config.FLAGS.jax_backend_target = \"grpc://\" + os.environ['COLAB_TPU_ADDR']\n",
    "print(config.FLAGS.jax_backend_target)"
   ]
  },
  {
   "cell_type": "code",
   "execution_count": 2,
   "metadata": {
    "colab": {
     "base_uri": "https://localhost:8080/",
     "height": 139
    },
    "colab_type": "code",
    "id": "Qqn_fPK5x8Qd",
    "outputId": "2d75b4bd-14de-4711-c6f7-036d80e569b0"
   },
   "outputs": [
    {
     "name": "stdout",
     "output_type": "stream",
     "text": [
      "Cloning into 'fenton_karma_jax'...\n",
      "remote: Enumerating objects: 183, done.\u001b[K\n",
      "remote: Counting objects: 100% (183/183), done.\u001b[K\n",
      "remote: Compressing objects: 100% (161/161), done.\u001b[K\n",
      "remote: Total 183 (delta 92), reused 32 (delta 12), pack-reused 0\u001b[K\n",
      "Receiving objects: 100% (183/183), 383.07 KiB | 5.80 MiB/s, done.\n",
      "Resolving deltas: 100% (92/92), done.\n"
     ]
    }
   ],
   "source": [
    "!git clone https://github.com/epignatelli/fenton_karma_jax.git"
   ]
  },
  {
   "cell_type": "code",
   "execution_count": null,
   "metadata": {
    "colab": {},
    "colab_type": "code",
    "id": "vUv_EBY-3AQL"
   },
   "outputs": [],
   "source": [
    "import fenton_karma_jax.params as params\n",
    "import fenton_karma_jax.model as model\n",
    "import matplotlib.pyplot as plt\n",
    "import jax\n",
    "import jax.numpy as np"
   ]
  },
  {
   "cell_type": "code",
   "execution_count": null,
   "metadata": {
    "colab": {},
    "colab_type": "code",
    "id": "h4wpfYDF31k4"
   },
   "outputs": [],
   "source": [
    "# geometry\n",
    "shape = (1024, 1024)\n",
    "dt = 0.01\n",
    "\n",
    "# diffusivity map\n",
    "d = 0.05\n",
    "D = np.ones(shape) * d\n",
    "\n",
    "# stimuli\n",
    "field = np.zeros(shape)\n",
    "field = jax.ops.index_update(field, jax.ops.index[0:20], .8)\n",
    "s1 = {\n",
    "    \"field\": field,\n",
    "    \"start\": 0,\n",
    "    \"duration\": 2,\n",
    "    \"period\": 0  # non-cyclic\n",
    "}\n",
    "\n",
    "field2 = np.zeros(shape)\n",
    "field2 = jax.ops.index_update(field, jax.ops.index[:, -20:], .5)\n",
    "s2 = {\n",
    "    \"field\": field2,\n",
    "    \"start\": 200,\n",
    "    \"duration\": 2,\n",
    "    \"period\": 0  # non-cyclic\n",
    "}\n",
    "\n",
    "field3 = np.zeros(shape)\n",
    "field2 = jax.ops.index_update(field, jax.ops.index[40:60], .5)\n",
    "s3 = {\n",
    "    \"field\": field3,\n",
    "    \"start\": 360,\n",
    "    \"duration\": 15,\n",
    "    \"period\": 0  # non-cyclic\n",
    "}"
   ]
  },
  {
   "cell_type": "code",
   "execution_count": 32,
   "metadata": {
    "colab": {
     "base_uri": "https://localhost:8080/",
     "height": 34
    },
    "colab_type": "code",
    "id": "Nbf5egdn4QOo",
    "outputId": "af7c2209-4dec-4a3d-ddab-0bc819ec330b"
   },
   "outputs": [
    {
     "name": "stdout",
     "output_type": "stream",
     "text": [
      "10 loops, best of 3: 842 ms per loop\n"
     ]
    }
   ],
   "source": [
    "%%timeit -n10\n",
    "state = model.forward(shape, 1000, params.params_test(), D, [s1, s2], dt)[0].block_until_ready()"
   ]
  },
  {
   "cell_type": "code",
   "execution_count": 24,
   "metadata": {
    "colab": {
     "base_uri": "https://localhost:8080/",
     "height": 34
    },
    "colab_type": "code",
    "id": "zjjT5pLQ2gR9",
    "outputId": "25c21a59-89e7-49cb-f219-c1f12656df7a"
   },
   "outputs": [
    {
     "name": "stdout",
     "output_type": "stream",
     "text": [
      "10 loops, best of 3: 6.46 s per loop\n"
     ]
    }
   ],
   "source": [
    "%%timeit -n10\n",
    "state = model.init(shape)\n",
    "p = params.params_test()\n",
    "for t in range(1000):\n",
    "    state = model.step(state, t * dt, p, D, [s1, s2], dt)\n",
    "state[0].block_until_ready()"
   ]
  },
  {
   "cell_type": "code",
   "execution_count": null,
   "metadata": {
    "colab": {},
    "colab_type": "code",
    "id": "LQGtIzSJ2iAr"
   },
   "outputs": [],
   "source": []
  }
 ],
 "metadata": {
  "accelerator": "TPU",
  "colab": {
   "collapsed_sections": [],
   "include_colab_link": true,
   "name": "fenton_karma_jax_tpu.ipynb",
   "provenance": [],
   "toc_visible": true
  },
  "kernelspec": {
   "display_name": "Python 3",
   "language": "python",
   "name": "python3"
  },
  "language_info": {
   "codemirror_mode": {
    "name": "ipython",
    "version": 3
   },
   "file_extension": ".py",
   "mimetype": "text/x-python",
   "name": "python",
   "nbconvert_exporter": "python",
   "pygments_lexer": "ipython3",
   "version": "3.7.7"
  }
 },
 "nbformat": 4,
 "nbformat_minor": 4
}
