{
 "cells": [
  {
   "cell_type": "code",
   "execution_count": 2,
   "metadata": {},
   "outputs": [],
   "source": [
    "import numpy as onp\n",
    "import jax.numpy as jnp\n",
    "import jax"
   ]
  },
  {
   "cell_type": "code",
   "execution_count": 26,
   "metadata": {},
   "outputs": [],
   "source": [
    "np_arr = onp.random.normal(size=(10,)).astype(\"float32\")\n",
    "jax_arr = jnp.asarray(np_arr)"
   ]
  },
  {
   "cell_type": "code",
   "execution_count": 27,
   "metadata": {},
   "outputs": [
    {
     "data": {
      "text/plain": [
       "array([ 1.4163738 , -0.21575388,  0.11166906,  0.7651887 , -1.7619236 ,\n",
       "       -0.50367457, -0.9007567 ,  0.34611902, -0.63155544, -0.42322147],\n",
       "      dtype=float32)"
      ]
     },
     "execution_count": 27,
     "metadata": {},
     "output_type": "execute_result"
    }
   ],
   "source": [
    "np_arr"
   ]
  },
  {
   "cell_type": "code",
   "execution_count": 28,
   "metadata": {},
   "outputs": [
    {
     "data": {
      "text/plain": [
       "DeviceArray([ 1.4163738 , -0.21575388,  0.11166906,  0.7651887 ,\n",
       "             -1.7619236 , -0.50367457, -0.9007567 ,  0.34611902,\n",
       "             -0.63155544, -0.42322147], dtype=float32)"
      ]
     },
     "execution_count": 28,
     "metadata": {},
     "output_type": "execute_result"
    }
   ],
   "source": [
    "jax_arr"
   ]
  },
  {
   "cell_type": "code",
   "execution_count": 29,
   "metadata": {},
   "outputs": [
    {
     "data": {
      "text/plain": [
       "array([-1.6321278 , -0.6523524 ,  0.4904713 , -0.9367963 , -0.6344316 ,\n",
       "        0.43058342,  0.42489678,  0.13460064, -0.38467026,  0.20833397],\n",
       "      dtype=float32)"
      ]
     },
     "execution_count": 29,
     "metadata": {},
     "output_type": "execute_result"
    }
   ],
   "source": [
    "onp.gradient(np_arr)"
   ]
  },
  {
   "cell_type": "code",
   "execution_count": 30,
   "metadata": {},
   "outputs": [
    {
     "data": {
      "text/plain": [
       "DeviceArray([-1.6321278 , -0.6523524 ,  0.4904713 , -0.9367963 ,\n",
       "             -0.6344316 ,  0.43058342,  0.42489678,  0.13460064,\n",
       "             -0.38467026,  0.20833397], dtype=float32)"
      ]
     },
     "execution_count": 30,
     "metadata": {},
     "output_type": "execute_result"
    }
   ],
   "source": [
    "jnp.gradient(jax_arr)"
   ]
  },
  {
   "cell_type": "code",
   "execution_count": 31,
   "metadata": {},
   "outputs": [
    {
     "data": {
      "text/plain": [
       "array([-65.28511  , -26.094095 ,  19.618853 , -37.47185  , -25.377264 ,\n",
       "        17.223337 ,  16.99587  ,   5.3840256, -15.38681  ,   8.333359 ],\n",
       "      dtype=float32)"
      ]
     },
     "execution_count": 31,
     "metadata": {},
     "output_type": "execute_result"
    }
   ],
   "source": [
    "onp.gradient(np_arr, 0.025)"
   ]
  },
  {
   "cell_type": "code",
   "execution_count": 32,
   "metadata": {},
   "outputs": [
    {
     "data": {
      "text/plain": [
       "DeviceArray([-65.28511  , -26.094095 ,  19.618853 , -37.47185  ,\n",
       "             -25.377264 ,  17.223337 ,  16.99587  ,   5.3840256,\n",
       "             -15.38681  ,   8.333359 ], dtype=float32)"
      ]
     },
     "execution_count": 32,
     "metadata": {},
     "output_type": "execute_result"
    }
   ],
   "source": [
    "jnp.gradient(jax_arr, 0.025)"
   ]
  },
  {
   "cell_type": "code",
   "execution_count": 33,
   "metadata": {},
   "outputs": [
    {
     "data": {
      "text/plain": [
       "array([-1.6321278 , -0.6523524 ,  0.4904713 , -0.9367963 , -0.6344316 ,\n",
       "        0.43058342,  0.42489678,  0.13460064, -0.38467026,  0.20833397],\n",
       "      dtype=float32)"
      ]
     },
     "execution_count": 33,
     "metadata": {},
     "output_type": "execute_result"
    }
   ],
   "source": [
    "onp.gradient(np_arr, 1.0)"
   ]
  },
  {
   "cell_type": "code",
   "execution_count": 34,
   "metadata": {},
   "outputs": [
    {
     "data": {
      "text/plain": [
       "array([-1.6321278 , -0.6523524 ,  0.4904713 , -0.9367963 , -0.6344316 ,\n",
       "        0.43058342,  0.42489678,  0.13460064, -0.38467026,  0.20833397],\n",
       "      dtype=float32)"
      ]
     },
     "execution_count": 34,
     "metadata": {},
     "output_type": "execute_result"
    }
   ],
   "source": [
    "onp.gradient(np_arr)"
   ]
  },
  {
   "cell_type": "code",
   "execution_count": 35,
   "metadata": {},
   "outputs": [
    {
     "data": {
      "text/plain": [
       "DeviceArray([-1.6321278 , -0.6523524 ,  0.4904713 , -0.9367963 ,\n",
       "             -0.6344316 ,  0.43058342,  0.42489678,  0.13460064,\n",
       "             -0.38467026,  0.20833397], dtype=float32)"
      ]
     },
     "execution_count": 35,
     "metadata": {},
     "output_type": "execute_result"
    }
   ],
   "source": [
    "jnp.gradient(jax_arr)"
   ]
  },
  {
   "cell_type": "code",
   "execution_count": 36,
   "metadata": {},
   "outputs": [
    {
     "data": {
      "text/plain": [
       "DeviceArray([-1.6321278 , -0.6523524 ,  0.4904713 , -0.9367963 ,\n",
       "             -0.6344316 ,  0.43058342,  0.42489678,  0.13460064,\n",
       "             -0.38467026,  0.20833397], dtype=float32)"
      ]
     },
     "execution_count": 36,
     "metadata": {},
     "output_type": "execute_result"
    }
   ],
   "source": [
    "jnp.gradient(jax_arr, 1)"
   ]
  },
  {
   "cell_type": "code",
   "execution_count": 38,
   "metadata": {},
   "outputs": [
    {
     "data": {
      "text/plain": [
       "DeviceArray([0., 0., 0., 0., 0., 0., 0., 0., 0., 0.], dtype=float32)"
      ]
     },
     "execution_count": 38,
     "metadata": {},
     "output_type": "execute_result"
    }
   ],
   "source": [
    "jnp.gradient(jnp.ones(10,), 1)"
   ]
  },
  {
   "cell_type": "code",
   "execution_count": null,
   "metadata": {},
   "outputs": [],
   "source": []
  }
 ],
 "metadata": {
  "kernelspec": {
   "display_name": "Python 3",
   "language": "python",
   "name": "python3"
  },
  "language_info": {
   "codemirror_mode": {
    "name": "ipython",
    "version": 3
   },
   "file_extension": ".py",
   "mimetype": "text/x-python",
   "name": "python",
   "nbconvert_exporter": "python",
   "pygments_lexer": "ipython3",
   "version": "3.7.7"
  }
 },
 "nbformat": 4,
 "nbformat_minor": 4
}
