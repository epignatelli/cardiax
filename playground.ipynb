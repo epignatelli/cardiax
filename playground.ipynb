{
 "cells": [
  {
   "cell_type": "code",
   "execution_count": 1,
   "id": "c3e98021-b405-482d-999c-f3b55558002b",
   "metadata": {},
   "outputs": [],
   "source": [
    "%load_ext autoreload\n",
    "%autoreload 2"
   ]
  },
  {
   "cell_type": "code",
   "execution_count": 34,
   "id": "13b67f77-2d48-43d2-8f2d-3cdca579294a",
   "metadata": {},
   "outputs": [],
   "source": [
    "import os\n",
    "from deepx import resnet, dataset\n",
    "import jax\n",
    "import cardiax\n",
    "import matplotlib.pyplot as plt\n",
    "import jax.numpy as jnp\n",
    "\n",
    "\n",
    "def get_ap_series(ys):\n",
    "    return ys[0, 0, :, -1]\n",
    "\n",
    "root = \"experiments/training/data\"\n",
    "make_dataset = lambda subdir, n: dataset.Dataset(\n",
    "    folder=os.path.join(root, subdir),\n",
    "    frames_in=2,\n",
    "    frames_out=50,\n",
    "    step=1,\n",
    "    batch_size=2,\n",
    ")\n",
    "train_set = make_dataset(\"train\", 100)"
   ]
  },
  {
   "cell_type": "code",
   "execution_count": 69,
   "id": "c7cdc83c-d622-4fab-aae8-298f335dea73",
   "metadata": {},
   "outputs": [],
   "source": [
    "def electrogram(x, point=None):\n",
    "    \"\"\"Returns the value of the electrogram at the specified point.\n",
    "    x is a 3-dimensional tensor where the first dimension is time.\"\"\"\n",
    "    if point is None:\n",
    "        point = (x.shape[-1] // 2, x.shape[-2] // 2)\n",
    "    #  generate grid\n",
    "    h, w = x.shape[-1], x.shape[-2]\n",
    "    c_y, c_x = jnp.ogrid[:h, :w]\n",
    "    #  inverse radius proportionality\n",
    "    dist = jnp.sqrt((c_x - point[0]) ** 2 + (c_y - point[1]) ** 2)\n",
    "    #  integrate\n",
    "    return jnp.sum(x / (dist ** 2 + 1e-9), axis=(-1, -2)) / h / w"
   ]
  },
  {
   "cell_type": "code",
   "execution_count": 70,
   "id": "f556c373-a185-4642-ba11-d27f3f88dd84",
   "metadata": {},
   "outputs": [
    {
     "data": {
      "image/png": "[encoded data removed]",
      "text/plain": [
       "<Figure size 432x288 with 1 Axes>"
      ]
     },
     "metadata": {
      "needs_background": "light"
     },
     "output_type": "display_data"
    }
   ],
   "source": [
    "rng = jax.random.PRNGKey(2313)\n",
    "xs, ys = train_set.sample(rng)\n",
    "x = get_ap_series(ys)\n",
    "e = electrogram(x)\n",
    "plt.plot(e)\n",
    "plt.show()"
   ]
  },
  {
   "cell_type": "code",
   "execution_count": null,
   "id": "955996bd-e61d-437b-8a44-49f1a95af2a4",
   "metadata": {},
   "outputs": [],
   "source": []
  }
 ],
 "metadata": {
  "kernelspec": {
   "display_name": "Python 3",
   "language": "python",
   "name": "python3"
  },
  "language_info": {
   "codemirror_mode": {
    "name": "ipython",
    "version": 3
   },
   "file_extension": ".py",
   "mimetype": "text/x-python",
   "name": "python",
   "nbconvert_exporter": "python",
   "pygments_lexer": "ipython3",
   "version": "3.8.10"
  }
 },
 "nbformat": 4,
 "nbformat_minor": 5
}
