{
 "cells": [
  {
   "cell_type": "code",
   "execution_count": 1,
   "metadata": {},
   "outputs": [],
   "source": [
    "import os\n",
    "import random\n",
    "import h5py\n",
    "import math\n",
    "import matplotlib.pyplot as plt\n",
    "import jax\n",
    "import jax.numpy as np\n",
    "import fenton_karma as fk"
   ]
  },
  {
   "cell_type": "markdown",
   "metadata": {},
   "source": [
    "## SEPARATE DIFFUSION AND REACTION TERM"
   ]
  },
  {
   "cell_type": "code",
   "execution_count": 2,
   "metadata": {},
   "outputs": [],
   "source": [
    "# simulation inputs (real values)\n",
    "root = \"/media/ep119/DATADRIVE3/epignatelli/deepexcite/\"\n",
    "field_size = (12, 12)  # cm\n",
    "d = 0.001  # (cm^2/ms)\n",
    "cell_parameters = fk.params.params3()\n",
    "\n",
    "# infinitesimals\n",
    "dx = 0.01  # (cm/units) - Fenton 1998 recommends ~200, 300 micron/gridunit (~0.02, 0.03), smaller dx means finer grid\n",
    "dt = 0.01  # (ms) - Fenton 1998 recommends few hundreds of ms (~0.01, 0.04)\n",
    "\n",
    "# diffusivity \n",
    "d = 0.001  # cm^2/ms\n",
    "shape = fk.convert.realsize_to_shape(field_size, dx)\n",
    "diffusivity = np.ones(shape) * d"
   ]
  },
  {
   "cell_type": "code",
   "execution_count": 3,
   "metadata": {},
   "outputs": [],
   "source": [
    "name = root + \"train_dev_set/deepreact_spiral_params5.hdf5\""
   ]
  },
  {
   "cell_type": "code",
   "execution_count": 4,
   "metadata": {},
   "outputs": [
    {
     "data": {
      "image/png": "[encoded data removed]",
      "text/plain": [
       "<Figure size 720x216 with 4 Axes>"
      ]
     },
     "metadata": {
      "needs_background": "light"
     },
     "output_type": "display_data"
    }
   ],
   "source": [
    "# times\n",
    "start = 0  # ms\n",
    "stop = 2000  # ms\n",
    "show_every = 1  # ms\n",
    "\n",
    "# stimuli\n",
    "s1 = fk.stimulus.protocol(start=0, duration=2)\n",
    "s1 = fk.stimulus.triangular(shape, direction=\"right\", angle=15, coverage=0.1, modulus=0.5, protocol=s1)\n",
    "\n",
    "s2 = fk.stimulus.protocol(start=fk.convert.ms_to_units(400, dt), duration=2)\n",
    "s2 = fk.stimulus.triangular(shape, direction=\"up\", angle=60, coverage=0.7, modulus=0.5, protocol=s2)\n",
    "\n",
    "# s3 = fk.stimulus.protocol(start=fk.convert.ms_to_units(900, dt), duration=2)\n",
    "# s3 = fk.stimulus.triangular(shape, direction=\"down\", angle=30, coverage=0.7, modulus=1., protocol=s3)\n",
    "\n",
    "stimuli = [s1, s2]\n",
    "fk.plot.show_stimuli(*stimuli)"
   ]
  },
  {
   "cell_type": "code",
   "execution_count": 5,
   "metadata": {},
   "outputs": [],
   "source": [
    "state = fk.model.init(shape)"
   ]
  },
  {
   "cell_type": "code",
   "execution_count": 6,
   "metadata": {},
   "outputs": [],
   "source": [
    "state = fk.model.step(state, 10, cell_parameters, diffusivity, stimuli, dt, dx)"
   ]
  },
  {
   "cell_type": "code",
   "execution_count": null,
   "metadata": {},
   "outputs": [
    {
     "name": "stdout",
     "output_type": "stream",
     "text": [
      "Solving at: 0ms/1999ms\t\t with 99 passages\r"
     ]
    }
   ],
   "source": [
    "checkpoints = np.arange(start // dt, (stop - start) // dt, show_every // dt)\n",
    "states = fk.model.forward(shape, checkpoints, cell_parameters, diffusivity, stimuli, dt, dx)"
   ]
  },
  {
   "cell_type": "code",
   "execution_count": null,
   "metadata": {},
   "outputs": [],
   "source": [
    "fk.data.generate(start=fk.convert.ms_to_units(start, dt),\n",
    "                 stop=fk.convert.ms_to_units(stop, dt),\n",
    "                 dt=dt, dx=dx,\n",
    "                 cell_parameters=cell_parameters,\n",
    "                 diffusivity=diffusivity,\n",
    "                 stimuli=stimuli,\n",
    "                 filename=name)"
   ]
  },
  {
   "cell_type": "code",
   "execution_count": null,
   "metadata": {},
   "outputs": [],
   "source": [
    "# display\n",
    "with h5py.File(name, \"r\") as file:\n",
    "    states = file[\"states\"][::show_every]\n",
    "    print(file[\"states\"].shape)\n",
    "    print(states.shape)    \n",
    "\n",
    "V = fk.convert.u_to_V(states[:, 2])\n",
    "fig, ax = fk.plot.show_grid(V, figsize=(25, 25), font_size=18)"
   ]
  },
  {
   "cell_type": "code",
   "execution_count": null,
   "metadata": {},
   "outputs": [],
   "source": []
  }
 ],
 "metadata": {
  "kernelspec": {
   "display_name": "Python 3",
   "language": "python",
   "name": "python3"
  },
  "language_info": {
   "codemirror_mode": {
    "name": "ipython",
    "version": 3
   },
   "file_extension": ".py",
   "mimetype": "text/x-python",
   "name": "python",
   "nbconvert_exporter": "python",
   "pygments_lexer": "ipython3",
   "version": "3.8.5"
  }
 },
 "nbformat": 4,
 "nbformat_minor": 4
}
