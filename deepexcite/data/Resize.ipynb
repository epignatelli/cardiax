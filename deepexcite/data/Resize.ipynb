{
 "cells": [
  {
   "cell_type": "code",
   "execution_count": 1,
   "metadata": {},
   "outputs": [],
   "source": [
    "%load_ext autoreload\n",
    "%autoreload 2"
   ]
  },
  {
   "cell_type": "code",
   "execution_count": 2,
   "metadata": {},
   "outputs": [],
   "source": [
    "import os\n",
    "import random\n",
    "import h5py\n",
    "import math\n",
    "import matplotlib.pyplot as plt\n",
    "import numpy as np\n",
    "import fk\n",
    "from IPython.display import Video\n",
    "from IPython.display import HTML\n",
    "import torchvision.transforms as t\n",
    "import torch"
   ]
  },
  {
   "cell_type": "code",
   "execution_count": 24,
   "metadata": {},
   "outputs": [],
   "source": [
    "root = \"/media/ep119/DATADRIVE3/epignatelli/deepexcite/train_dev_set/\"\n",
    "name = \"heartbeat_params9.hdf5\"\n",
    "path = root + name"
   ]
  },
  {
   "cell_type": "code",
   "execution_count": 25,
   "metadata": {},
   "outputs": [
    {
     "name": "stdout",
     "output_type": "stream",
     "text": [
      "<KeysViewHDF5 ['duration', 'field', 'params', 'period', 'start', 'states', 'stimuli']>\n"
     ]
    },
    {
     "data": {
      "text/plain": [
       "<HDF5 dataset \"states_256\": shape (2000, 3, 256, 256), type \"<f4\">"
      ]
     },
     "execution_count": 25,
     "metadata": {},
     "output_type": "execute_result"
    }
   ],
   "source": [
    "a = h5py.File(path, \"r+\")\n",
    "print(a.keys())\n",
    "a.create_dataset(\"states_256\", shape=(2000, 3, 256, 256))"
   ]
  },
  {
   "cell_type": "code",
   "execution_count": 26,
   "metadata": {},
   "outputs": [
    {
     "name": "stdout",
     "output_type": "stream",
     "text": [
      "1999\r"
     ]
    }
   ],
   "source": [
    "def resize(a, size):\n",
    "    return torch.nn.functional.interpolate(torch.tensor(a).unsqueeze(0), size=size, mode=\"bilinear\").squeeze().numpy()\n",
    "\n",
    "for i in range(len(a[\"states_256\"])):\n",
    "    print(i, end=\"\\r\")\n",
    "    a[\"states_256\"][i] = resize(a[\"states\"][i], 256)"
   ]
  },
  {
   "cell_type": "code",
   "execution_count": 27,
   "metadata": {},
   "outputs": [],
   "source": [
    "a.close()"
   ]
  },
  {
   "cell_type": "code",
   "execution_count": null,
   "metadata": {},
   "outputs": [],
   "source": []
  },
  {
   "cell_type": "code",
   "execution_count": 30,
   "metadata": {},
   "outputs": [
    {
     "name": "stdout",
     "output_type": "stream",
     "text": [
      "All OK\n"
     ]
    }
   ],
   "source": [
    "# check all\n",
    "from glob import glob\n",
    "for filename in glob(root + \"\\*.hdf5\"):\n",
    "    file = h5py.File(filename, \"r\").keys()\n",
    "    assert \"states_256\" in file.keys()\n",
    "    file.close()\n",
    "print(\"All OK\")"
   ]
  },
  {
   "cell_type": "code",
   "execution_count": null,
   "metadata": {},
   "outputs": [],
   "source": []
  }
 ],
 "metadata": {
  "kernelspec": {
   "display_name": "Python 3",
   "language": "python",
   "name": "python3"
  },
  "language_info": {
   "codemirror_mode": {
    "name": "ipython",
    "version": 3
   },
   "file_extension": ".py",
   "mimetype": "text/x-python",
   "name": "python",
   "nbconvert_exporter": "python",
   "pygments_lexer": "ipython3",
   "version": "3.8.3"
  }
 },
 "nbformat": 4,
 "nbformat_minor": 4
}
