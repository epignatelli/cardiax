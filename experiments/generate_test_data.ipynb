{
 "cells": [
  {
   "cell_type": "code",
   "execution_count": 1,
   "id": "remarkable-festival",
   "metadata": {},
   "outputs": [],
   "source": [
    "import jax\n",
    "import jax.numpy as jnp\n",
    "from jax.experimental import optimizers\n",
    "import os\n",
    "import h5py\n",
    "import numpy as onp\n",
    "import time\n",
    "import cardiax\n",
    "import deepx\n",
    "from deepx import optimise\n",
    "import helx\n",
    "from helx.optimise.optimisers import Optimiser\n",
    "import json\n",
    "import wandb\n",
    "import pickle\n",
    "import IPython\n",
    "from IPython.display import display\n",
    "from IPython.display import display_javascript\n",
    "import matplotlib.pyplot as plt\n",
    "from matplotlib.ticker import FuncFormatter\n",
    "import matplotlib.animation as animation\n",
    "import helx\n",
    "from matplotlib import rc, rcParams\n",
    "import scipy.io\n",
    "from functools import partial\n",
    "\n",
    "rc('animation', html='jshtml')\n",
    "rc('text', usetex=False)\n",
    "rcParams['animation.embed_limit'] = 2**128\n",
    "os.environ[\"CUDA_VISIBLE_DEVICES\"] = \"1\""
   ]
  },
  {
   "cell_type": "markdown",
   "id": "future-petite",
   "metadata": {},
   "source": [
    "## Setup parameters"
   ]
  },
  {
   "cell_type": "code",
   "execution_count": 2,
   "id": "finished-brick",
   "metadata": {},
   "outputs": [],
   "source": [
    "shape = (1200, 1200)\n",
    "reshape = (256, 256)\n",
    "state = cardiax.solve.init(shape)\n",
    "start = 0\n",
    "stop = 200_000\n",
    "step = 500  #  5 milliseconds\n",
    "dt = 0.01\n",
    "dx = 0.01\n",
    "paramset = cardiax.params.PARAMSET_3\n",
    "n_refeed = 100\n",
    "\n",
    "\n",
    "def load_model(url):\n",
    "    train_state = deepx.optimise.TrainState.restore(url)\n",
    "    hparams = train_state.hparams\n",
    "    model = deepx.resnet.ResNet(hparams.hidden_channels, 1, hparams.depth)\n",
    "    opt = optimizers.adam(0.001)\n",
    "    params = opt.params_fn(train_state.opt_state)\n",
    "    return model, hparams, params\n",
    "\n",
    "\n",
    "# def infer(xs):\n",
    "#     model, hparams, params = load_model(\"p3aetobr/9336\")\n",
    "# #     model, hparams, params = load_model(\"p3aetobr/9996\")\n",
    "# #     model, hparams, params = load_model(\"p3aetobr/10326\")\n",
    "# #     model, hparams, params = load_model(\"p3aetobr/10976\")\n",
    "#     start = time.time()\n",
    "#     ys_hat = deepx.optimise.infer(model, n_refeed, params, xs)\n",
    "#     print(\"Solved forward propagation to {}ms in: {}s\".format(n_refeed * 5, time.time() - start))\n",
    "#     if ys_hat.shape[0] == 1:\n",
    "#         ys_hat = jnp.swapaxes(ys_hat, -3, -4)[None]\n",
    "#     return ys_hat\n",
    "\n",
    "\n",
    "def infer(xs, a_min=None, a_max=None):\n",
    "    @partial(\n",
    "        jax.pmap,\n",
    "        in_axes=(None, None, 0, 0),\n",
    "        static_broadcasted_argnums=(0, 1),\n",
    "        axis_name=\"device\",\n",
    "    )\n",
    "    def _infer(model, n_refeed, params, xs):\n",
    "        def body_fun(inputs, i):\n",
    "            x = inputs\n",
    "            x = jnp.pad(x, 30, mode='edge')\n",
    "            y_hat = model.apply(params, x)\n",
    "            y_hat = jnp.pad(x, -30)\n",
    "            x = deepx.optimise.refeed(x, y_hat)  #  add the new pred to the inputs\n",
    "            return x, y_hat\n",
    "\n",
    "        _, ys_hat = jax.lax.scan(body_fun, xs, xs=jnp.arange(n_refeed))\n",
    "        ys_hat = jnp.swapaxes(jnp.squeeze(ys_hat), 0, 1)\n",
    "        return ys_hat\n",
    "\n",
    "    model, hparams, params = load_model(\"p3aetobr/9336\")\n",
    "#     model, hparams, params = load_model(\"p3aetobr/9996\")\n",
    "#     model, hparams, params = load_model(\"p3aetobr/10326\")\n",
    "#     model, hparams, params = load_model(\"p3aetobr/10976\")\n",
    "    start = time.time()\n",
    "    if (a_min is None) and (a_max is None):\n",
    "        ys_hat = deepx.optimise.infer(model, n_refeed, params, xs)\n",
    "    else:\n",
    "        ys_hat = _infer(model, n_refeed, params, xs)\n",
    "    print(\"Solved forward propagation to {}ms in: {}s\".format(n_refeed * 5, time.time() - start))\n",
    "    if ys_hat.shape[0] == 1:\n",
    "        ys_hat = jnp.swapaxes(ys_hat, -3, -4)[None]\n",
    "    return ys_hat\n",
    "\n",
    "\n",
    "def evaluate(xs, ys):\n",
    "    ys_hat = infer(xs)\n",
    "    assert ys_hat.shape == ys.shape, \"ys_hat and ys are of different shapes {} and {}\".format(ys_hat.shape, ys.shape)\n",
    "    loss = jnp.mean((ys_hat - ys) ** 2, axis=(0, 1, 4, 5))\n",
    "    return ys_hat, loss\n",
    "\n",
    "\n",
    "def read(filename, t, normalise=False):\n",
    "    with h5py.File(filename, \"r\") as sequence:\n",
    "        states = onp.array(\n",
    "            sequence[\"states\"][t:]\n",
    "        )\n",
    "        diffusivity = onp.array(sequence[\"diffusivity\"])\n",
    "        if normalise:\n",
    "            diffusivity = diffusivity * 500\n",
    "        diffusivity = onp.tile(diffusivity[None, None], (len(states), 1, 1, 1))\n",
    "        xs = onp.concatenate([states, diffusivity], axis=-3)[None, None]\n",
    "        return xs\n",
    "    \n",
    "    \n",
    "def save_mat(xs, filename):\n",
    "    mat_filename = os.path.splitext(filename)[0] + \".mat\"\n",
    "    mdict = {\"v\": xs[:, 0], \"w\": xs[:, 1], \"u\": xs[:, 2], \"d\": xs[:, 3]}\n",
    "    return scipy.io.savemat(mat_filename, mdict)\n",
    "\n",
    "\n",
    "def animate_state(a, d, filename=None):\n",
    "    states_a = [cardiax.solve.State(*x) for x in a.squeeze()]\n",
    "    anim = cardiax.plot.animate_state(states_a, d, cmap=\"Blues\", vmin=0, vmax=1)\n",
    "    display(anim)\n",
    "    if filename is not None:\n",
    "        anim.save(\"data/{}\".format(filename))\n",
    "    return anim"
   ]
  },
  {
   "cell_type": "markdown",
   "id": "6b01c1ba-294e-421a-bfba-4d60e67ba00f",
   "metadata": {},
   "source": [
    "# 1. Heterogeneous tissue"
   ]
  },
  {
   "cell_type": "markdown",
   "id": "dfe4021c-6f33-4cb3-bbb0-a77c92225ef7",
   "metadata": {},
   "source": [
    "## 1.1 Linear regime"
   ]
  },
  {
   "cell_type": "code",
   "execution_count": 34,
   "id": "bfe9d72b-32da-49a0-bd44-e0ce334d7252",
   "metadata": {},
   "outputs": [],
   "source": [
    "#  setup\n",
    "filename = \"rebuttal/heterogeneous_linear_{}-{}.hdf5\""
   ]
  },
  {
   "cell_type": "markdown",
   "id": "3540cbdc-65e6-4dff-a0e9-31caff58bc34",
   "metadata": {},
   "source": [
    "### a) Finite difference"
   ]
  },
  {
   "cell_type": "code",
   "execution_count": 15,
   "id": "5faf107c-e48d-4ab2-ac7c-115373b4a64f",
   "metadata": {
    "tags": []
   },
   "outputs": [],
   "source": [
    "#  Finite difference simulation\n",
    "p1 = cardiax.stimulus.Protocol(40_000 * 0, 2, 1e9)\n",
    "p2 = cardiax.stimulus.Protocol(40_000 * 1, 2, 1e9)\n",
    "p3 = cardiax.stimulus.Protocol(40_000 * 2, 2, 1e9)\n",
    "p4 = cardiax.stimulus.Protocol(40_000 * 3, 2, 1e9)\n",
    "for seed in range(10):\n",
    "    rng = jax.random.PRNGKey(seed)\n",
    "    angle = int(jax.random.randint(rng, (1,), 0, 180, ))\n",
    "    s1 = cardiax.stimulus.triangular(shape, cardiax.stimulus.Direction.NORTH, angle, 0.2, 20, p1)\n",
    "    s2 = cardiax.stimulus.triangular(shape, cardiax.stimulus.Direction.NORTH, angle, 0.2, 20, p2)\n",
    "    s3 = cardiax.stimulus.triangular(shape, cardiax.stimulus.Direction.NORTH, angle, 0.2, 20, p3)\n",
    "    s4 = cardiax.stimulus.triangular(shape, cardiax.stimulus.Direction.NORTH, angle, 0.2, 20, p4)\n",
    "    stimuli = [s1, s2, s3, s4]\n",
    "    diffusivity = deepx.generate.random_diffusivity(rng, shape)\n",
    "    deepx.generate.sequence(\n",
    "        start, stop, step, dt, dx, paramset, diffusivity, stimuli, filename.format(seed, \"fd\"), reshape=reshape, use_memory=True, plot_while=False\n",
    "    )"
   ]
  },
  {
   "cell_type": "markdown",
   "id": "22bd577d-481c-4d50-8770-3f930920bb09",
   "metadata": {},
   "source": [
    "### b) Neural network"
   ]
  },
  {
   "cell_type": "code",
   "execution_count": 47,
   "id": "b07a7980-3c2f-45f5-80f9-dd8c0776e0a4",
   "metadata": {},
   "outputs": [],
   "source": [
    "for seed in range(10):\n",
    "    xs = read(filename.format(seed, \"fd\"), int(40_000 * 3 * dt / 5), normalise=True)\n",
    "    save_mat(xs.squeeze(), filename.format(seed, \"fd\"))\n",
    "    ys_hat = infer(xs[:, :, :2]).squeeze()\n",
    "    save_mat(ys_hat.squeeze(), filename.format(seed, \"nn\"))\n",
    "    animate_state(ys_hat.squeeze(), xs.squeeze()[0, -1])"
   ]
  },
  {
   "cell_type": "code",
   "execution_count": null,
   "id": "6f7cc028-efaa-40a0-9546-5219ad02e510",
   "metadata": {},
   "outputs": [],
   "source": [
    "#  setup\n",
    "filename = \"rebuttal/heterogeneous_linear_{}-{}.hdf5\"\n",
    "\n",
    "seed = 0\n",
    "xs = read(filename.format(seed, \"fd\"), int(40_000 * 3 * dt / 5), normalise=True)\n",
    "ys_hat = infer(xs[:, :, :2]).squeeze()\n",
    "animate_state(xs.squeeze()[0:3], xs.squeeze()[0, -1])\n",
    "animate_state(ys_hat.squeeze(), xs.squeeze()[0, -1])"
   ]
  },
  {
   "cell_type": "markdown",
   "id": "ac33dcf7-9a07-42fd-9d88-be4097c6632a",
   "metadata": {},
   "source": [
    "## 1.2 Spiral regime"
   ]
  },
  {
   "cell_type": "code",
   "execution_count": 3,
   "id": "0f5df5e6-6e5c-420a-9006-0cf7d5e544c4",
   "metadata": {},
   "outputs": [],
   "source": [
    "#  setup\n",
    "filename = \"rebuttal/heterogeneous_spiral_{}-{}.hdf5\""
   ]
  },
  {
   "cell_type": "code",
   "execution_count": null,
   "id": "8b7b14ae-fcdf-4085-a016-a35ffe9ffc5e",
   "metadata": {},
   "outputs": [],
   "source": []
  },
  {
   "cell_type": "markdown",
   "id": "00ce87f7-b615-4b45-8ea3-44bcb79a05f0",
   "metadata": {},
   "source": [
    "### a) Finite difference"
   ]
  },
  {
   "cell_type": "code",
   "execution_count": 68,
   "id": "7593292c-9446-4ce8-9fcc-4c7e523a047e",
   "metadata": {},
   "outputs": [],
   "source": [
    "#  Finite difference simulation\n",
    "stop = 100_000\n",
    "p1 = cardiax.stimulus.Protocol(40_000 * 0, 2, 1e9)\n",
    "p2 = cardiax.stimulus.Protocol(40_000 * 0 + 40_000, 2, 1e9)\n",
    "for seed in range(10):\n",
    "    rng = jax.random.PRNGKey(seed)\n",
    "    angle = int(jax.random.randint(rng, (1,), 0, 180, ))\n",
    "    s1 = cardiax.stimulus.triangular(shape, cardiax.stimulus.Direction.NORTH, angle, 0.2, 20, p1)\n",
    "    s2 = cardiax.stimulus.triangular(shape, cardiax.stimulus.Direction.NORTH, angle + 90, 0.8, 20, p2)\n",
    "    stimuli = [s1, s2]\n",
    "    diffusivity = deepx.generate.random_diffusivity(rng, shape)\n",
    "    deepx.generate.sequence(\n",
    "        start, stop, step, dt, dx, paramset, diffusivity, stimuli, filename.format(seed, \"fd\"), reshape=reshape, use_memory=True, plot_while=False\n",
    "    )\n",
    "    xs = read(filename.format(seed, \"fd\"), 0)\n",
    "    animate_state(xs.squeeze()[:, 0:3], xs.squeeze()[0, -1])"
   ]
  },
  {
   "cell_type": "code",
   "execution_count": 62,
   "id": "df7bb77b-d612-4568-a891-3a8b8908c54e",
   "metadata": {},
   "outputs": [],
   "source": [
    "#  Finite difference simulation\n",
    "# stop = 200_000\n",
    "p1 = cardiax.stimulus.Protocol(40_000 * 0, 2, 1e9)\n",
    "p2 = cardiax.stimulus.Protocol(40_000 * 1, 2, 1e9)\n",
    "p3 = cardiax.stimulus.Protocol(40_000 * 2, 2, 1e9)\n",
    "p4 = cardiax.stimulus.Protocol(40_000 * 2 + 35_000, 2, 1e9)\n",
    "for seed in range(10):\n",
    "    rng = jax.random.PRNGKey(seed)\n",
    "    angle = int(jax.random.randint(rng, (1,), 0, 180, ))\n",
    "    s1 = cardiax.stimulus.triangular(shape, cardiax.stimulus.Direction.NORTH, angle, 0.2, 20, p1)\n",
    "    s2 = cardiax.stimulus.triangular(shape, cardiax.stimulus.Direction.NORTH, angle, 0.2, 20, p2)\n",
    "    s3 = cardiax.stimulus.triangular(shape, cardiax.stimulus.Direction.NORTH, angle, 0.2, 20, p3)\n",
    "    s4 = cardiax.stimulus.triangular(shape, cardiax.stimulus.Direction.NORTH, angle + 90, 0.2, 20, p4)\n",
    "    stimuli = [s1, s2, s3, s4]\n",
    "    diffusivity = deepx.generate.random_diffusivity(rng, shape)\n",
    "    deepx.generate.sequence(\n",
    "        start, stop, step, dt, dx, paramset, diffusivity, stimuli, filename.format(seed, \"fd\"), reshape=reshape, use_memory=True, plot_while=False\n",
    "    )\n",
    "    xs = read(filename.format(seed, \"fd\"), 0)\n",
    "    animate_state(xs.squeeze()[:, 0:3], xs.squeeze()[0, -1])\n",
    "    break"
   ]
  },
  {
   "cell_type": "markdown",
   "id": "2a5255b7-86a5-4ef8-a199-e9ac1ff66688",
   "metadata": {},
   "source": [
    "### b) Neural network"
   ]
  },
  {
   "cell_type": "code",
   "execution_count": null,
   "id": "7f8c609b-0a5d-4d4c-bc76-3d43519aadbb",
   "metadata": {},
   "outputs": [],
   "source": []
  },
  {
   "cell_type": "markdown",
   "id": "eba34efd-b9b9-48f3-b009-2cae99781b15",
   "metadata": {},
   "source": [
    "# 2. Homogeneous tissue"
   ]
  },
  {
   "cell_type": "code",
   "execution_count": null,
   "id": "30755321-cc83-41a2-802d-c02985f88606",
   "metadata": {},
   "outputs": [],
   "source": []
  },
  {
   "cell_type": "code",
   "execution_count": null,
   "id": "83188696-04f3-4d68-835d-6caa9e29e47c",
   "metadata": {},
   "outputs": [],
   "source": []
  },
  {
   "cell_type": "code",
   "execution_count": null,
   "id": "0c8217ca-b877-4a15-bc51-3236614f7005",
   "metadata": {},
   "outputs": [],
   "source": []
  },
  {
   "cell_type": "code",
   "execution_count": null,
   "id": "fbf92dac-1804-4c53-8a3d-0cc580d7d367",
   "metadata": {},
   "outputs": [],
   "source": []
  },
  {
   "cell_type": "markdown",
   "id": "f4c66a8a-c52b-4542-a6b5-d523b687f8d7",
   "metadata": {},
   "source": [
    "# Pre-rebuttal data"
   ]
  },
  {
   "cell_type": "markdown",
   "id": "scheduled-garlic",
   "metadata": {},
   "source": [
    "## Generate linear wave"
   ]
  },
  {
   "cell_type": "code",
   "execution_count": null,
   "id": "everyday-stomach",
   "metadata": {
    "tags": []
   },
   "outputs": [],
   "source": [
    "stop = 60_000\n",
    "p1 = cardiax.stimulus.Protocol(0, 2, 1e9)\n",
    "s1 = [cardiax.stimulus.linear(shape, cardiax.stimulus.Direction.SOUTH, 0.2, 20.0, p1)]\n",
    "stimuli = s1\n",
    "\n",
    "filename = \"data/linear.hdf5\"\n",
    "\n",
    "if not os.path.isfile(filename):\n",
    "    deepx.generate.sequence(\n",
    "        start, stop, step, dt, dx, paramset, diffusivity, stimuli, filename, reshape=reshape, use_memory=True, plot_while=True\n",
    "    )"
   ]
  },
  {
   "cell_type": "markdown",
   "id": "anticipated-thousand",
   "metadata": {},
   "source": [
    "## Generate spiral"
   ]
  },
  {
   "cell_type": "code",
   "execution_count": null,
   "id": "happy-surgery",
   "metadata": {
    "tags": []
   },
   "outputs": [],
   "source": [
    "stop = 200_000\n",
    "p1 = cardiax.stimulus.Protocol(0, 2, 1e9)\n",
    "s1 = [cardiax.stimulus.linear(shape, cardiax.stimulus.Direction.SOUTH, 0.2, 20.0, p1)]\n",
    "p2 = cardiax.stimulus.Protocol(30000, 2, 1e9)\n",
    "s2 = [cardiax.stimulus.linear(shape, cardiax.stimulus.Direction.WEST, 0.2, 20.0, p2)]\n",
    "stimuli = s1 + s2\n",
    "\n",
    "filename = \"data/spiral.hdf5\"\n",
    "linear_wave_start = 1\n",
    "spiral_start = 62\n",
    "broken_spiral_start = 82\n",
    "\n",
    "if not os.path.isfile(filename):\n",
    "    deepx.generate.sequence(\n",
    "        start, stop, step, dt, dx, paramset, diffusivity, stimuli, filename, reshape=reshape, use_memory=True, plot_while=True\n",
    "    )"
   ]
  },
  {
   "cell_type": "markdown",
   "id": "skilled-cleaners",
   "metadata": {},
   "source": [
    "## Generate linear wave in homogeneous conductivity"
   ]
  },
  {
   "cell_type": "code",
   "execution_count": null,
   "id": "beautiful-sight",
   "metadata": {},
   "outputs": [],
   "source": [
    "stop = 100_000\n",
    "p1 = cardiax.stimulus.Protocol(0, 2, 1e9)\n",
    "s1 = [cardiax.stimulus.linear(shape, cardiax.stimulus.Direction.SOUTH, 0.2, 20.0, p1)]\n",
    "stimuli = s1\n",
    "\n",
    "diffusivity = jnp.ones(shape) * 0.001\n",
    "filename = \"data/linear_homogeneous.hdf5\"\n",
    "\n",
    "if not os.path.isfile(filename):\n",
    "    deepx.generate.sequence(\n",
    "        start, stop, step, dt, dx, paramset, diffusivity, stimuli, filename, reshape=reshape, use_memory=True, plot_while=True\n",
    "    )"
   ]
  },
  {
   "cell_type": "markdown",
   "id": "smart-swiss",
   "metadata": {},
   "source": [
    "## Generate spiral wave in homogeneous conductivity"
   ]
  },
  {
   "cell_type": "code",
   "execution_count": null,
   "id": "starting-workstation",
   "metadata": {},
   "outputs": [],
   "source": [
    "stop = 100_000\n",
    "p1 = cardiax.stimulus.Protocol(0, 2, 1e9)\n",
    "s1 = [cardiax.stimulus.linear(shape, cardiax.stimulus.Direction.SOUTH, 0.2, 20.0, p1)]\n",
    "p2 = cardiax.stimulus.Protocol(35000, 2, 1e9)\n",
    "s2 = [cardiax.stimulus.linear(shape, cardiax.stimulus.Direction.WEST, 0.6, 20.0, p2)]\n",
    "stimuli = s1 + s2\n",
    "\n",
    "diffusivity = jnp.ones(shape) * 0.001\n",
    "filename = \"data/spiral_homogeneous.hdf5\"\n",
    "\n",
    "if not os.path.isfile(filename):\n",
    "    deepx.generate.sequence(\n",
    "        start, stop, step, dt, dx, paramset, diffusivity, stimuli, filename, reshape=reshape, use_memory=True, plot_while=True\n",
    "    )"
   ]
  },
  {
   "cell_type": "code",
   "execution_count": null,
   "id": "substantial-roads",
   "metadata": {},
   "outputs": [],
   "source": [
    "%%time\n",
    "stop = 100_000\n",
    "p1 = cardiax.stimulus.Protocol(0, 2, 1e9)\n",
    "s1 = [cardiax.stimulus.linear(shape, cardiax.stimulus.Direction.SOUTH, 0.2, 20.0, p1)]\n",
    "p2 = cardiax.stimulus.Protocol(35000, 2, 1e9)\n",
    "s2 = [cardiax.stimulus.linear(shape, cardiax.stimulus.Direction.WEST, 0.6, 20.0, p2)]\n",
    "stimuli = s1 + s2\n",
    "\n",
    "diffusivity = jnp.ones(shape) * 0.001\n",
    "filename = \"dev/null\"\n",
    "\n",
    "if not os.path.isfile(filename):\n",
    "    deepx.generate.sequence(\n",
    "        start, stop, step, dt, dx, paramset, diffusivity, stimuli, filename, reshape=reshape, use_memory=True, plot_while=False\n",
    "    )"
   ]
  },
  {
   "cell_type": "code",
   "execution_count": null,
   "id": "6d965d00-af10-4fc7-a0c7-3035ac2d244c",
   "metadata": {},
   "outputs": [],
   "source": []
  }
 ],
 "metadata": {
  "kernelspec": {
   "display_name": "Python 3",
   "language": "python",
   "name": "python3"
  },
  "language_info": {
   "codemirror_mode": {
    "name": "ipython",
    "version": 3
   },
   "file_extension": ".py",
   "mimetype": "text/x-python",
   "name": "python",
   "nbconvert_exporter": "python",
   "pygments_lexer": "ipython3",
   "version": "3.8.10"
  }
 },
 "nbformat": 4,
 "nbformat_minor": 5
}
